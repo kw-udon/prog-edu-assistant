{
 "cells": [
  {
   "cell_type": "markdown",
   "metadata": {},
   "source": [
    "# Scraping weather data\n",
    "\n",
    "This notebook provides a few functions to scrape the weather data from JMA (Japan Meteorological Agency).\n",
    "\n",
    "Source: Japan Meteorological Agency website (https://www.jma.go.jp/en/amedas_h/yesterday-44132.html?areaCode=000&groupCode=30)"
   ]
  },
  {
   "cell_type": "code",
   "execution_count": 62,
   "metadata": {},
   "outputs": [],
   "source": [
    "import requests\n",
    "import bs4\n",
    "import re\n",
    "import pandas as pd\n",
    "import numpy as np"
   ]
  },
  {
   "cell_type": "code",
   "execution_count": 63,
   "metadata": {},
   "outputs": [],
   "source": [
    "page = requests.get('https://www.jma.go.jp/en/amedas_h/yesterday-44132.html?areaCode=000&groupCode=30')"
   ]
  },
  {
   "cell_type": "code",
   "execution_count": 64,
   "metadata": {},
   "outputs": [],
   "source": [
    "bs = bs4.BeautifulSoup(page.content)\n",
    "t = bs.find_all('table')[4]\n",
    "assert t.tr.td.text == 'Time', 'the page layout might have changed, could not find hourly data table'"
   ]
  },
  {
   "cell_type": "code",
   "execution_count": 65,
   "metadata": {},
   "outputs": [],
   "source": [
    "id = re.sub(r'\\xa0+| +', '-', tables[3].tr.td.text)\n",
    "assert re.search(r'2019', id), 'the page layout might have changed, could not extract title'"
   ]
  },
  {
   "cell_type": "code",
   "execution_count": 66,
   "metadata": {},
   "outputs": [
    {
     "data": {
      "text/plain": [
       "['Time',\n",
       " 'Temperature',\n",
       " 'Precipitation',\n",
       " 'WindDirection',\n",
       " 'WindSpeed',\n",
       " 'SunshineDuration',\n",
       " 'Humidity',\n",
       " 'Pressure']"
      ]
     },
     "execution_count": 66,
     "metadata": {},
     "output_type": "execute_result"
    }
   ],
   "source": [
    "headers = [td.text for td in t.tr.find_all('td')]\n",
    "headers"
   ]
  },
  {
   "cell_type": "code",
   "execution_count": 67,
   "metadata": {},
   "outputs": [
    {
     "data": {
      "text/plain": [
       "['Hour', 'degC', 'mm', '16compasspoints', 'm_s', 'h', 'percent', 'hPa']"
      ]
     },
     "execution_count": 67,
     "metadata": {},
     "output_type": "execute_result"
    }
   ],
   "source": [
    "def sanitize_unit(name):\n",
    "    name = name.replace('°', 'deg').replace('%', 'percent')\n",
    "    return re.sub(r'\\W', '_', name)\n",
    "\n",
    "units = [sanitize_unit(td.text) for td in (t.find_all('tr')[1].find_all('td'))]\n",
    "units"
   ]
  },
  {
   "cell_type": "code",
   "execution_count": 68,
   "metadata": {},
   "outputs": [
    {
     "data": {
      "text/plain": [
       "['Time_Hour',\n",
       " 'Temperature_degC',\n",
       " 'Precipitation_mm',\n",
       " 'WindDirection_16compasspoints',\n",
       " 'WindSpeed_m_s',\n",
       " 'SunshineDuration_h',\n",
       " 'Humidity_percent',\n",
       " 'Pressure_hPa']"
      ]
     },
     "execution_count": 68,
     "metadata": {},
     "output_type": "execute_result"
    }
   ],
   "source": [
    "headers_with_units = list(map(lambda x: x[0]+'_'+x[1], zip(headers, units)))\n",
    "headers_with_units"
   ]
  },
  {
   "cell_type": "code",
   "execution_count": 69,
   "metadata": {},
   "outputs": [
    {
     "data": {
      "text/plain": [
       "[['1', '20.3', '1.0', 'ENE', '3.5', 'NaN', '100', '1004.6'],\n",
       " ['2', '20.2', '0.5', 'NE', '1.6', 'NaN', '100', '1004.5'],\n",
       " ['3', '20.1', '0.0', 'NE', '2.1', 'NaN', '100', '1004.8'],\n",
       " ['4', '20.0', '0.5', 'NE', '2.6', '0.0', '100', '1005.1'],\n",
       " ['5', '19.9', '0.5', 'NE', '3.3', '0.0', '100', '1005.4'],\n",
       " ['6', '20.0', '1.0', 'NE', '2.4', '0.0', '100', '1006.1'],\n",
       " ['7', '20.2', '1.0', 'NE', '2.1', '0.0', '100', '1006.4'],\n",
       " ['8', '20.4', '0.5', 'NE', '1.7', '0.0', '100', '1007.1'],\n",
       " ['9', '20.6', '0.0', 'NE', '2.3', '0.0', '99', '1007.5'],\n",
       " ['10', '21.1', '0.5', 'NE', '1.8', '0.0', '99', '1007.8'],\n",
       " ['11', '21.8', '0.5', 'NNE', '2.1', '0.0', '98', '1008.0'],\n",
       " ['12', '22.4', '0.0', 'ENE', '3.3', '0.0', '91', '1007.6'],\n",
       " ['13', '23.0', '0.0', 'NE', '1.9', '0.1', '85', '1007.5'],\n",
       " ['14', '24.6', '0.0', 'ENE', '2.9', '0.1', '79', '1007.7'],\n",
       " ['15', '23.7', '0.0', 'NE', '3.4', '0.0', '82', '1008.0'],\n",
       " ['16', '24.1', '0.0', 'E', '1.7', '0.0', '82', '1008.2'],\n",
       " ['17', '22.9', '0.0', 'E', '2.1', '0.0', '82', '1008.5'],\n",
       " ['18', '22.2', '0.0', 'ENE', '1.6', '0.0', '85', '1009.2'],\n",
       " ['19', '21.8', '0.0', 'NE', '2.8', '0.0', '86', '1009.8'],\n",
       " ['20', '21.2', '0.0', 'NE', '3.6', '0.0', '84', '1010.4'],\n",
       " ['21', '20.9', '0.0', 'NE', '2.5', 'NaN', '87', '1010.9'],\n",
       " ['22', '20.7', '0.0', 'ENE', '2.9', 'NaN', '88', '1011.6'],\n",
       " ['23', '19.6', '0.5', 'NE', '2.7', 'NaN', '98', '1011.8'],\n",
       " ['24', '19.5', '0.5', 'NE', '2.3', 'NaN', '100', '1011.8']]"
      ]
     },
     "execution_count": 69,
     "metadata": {},
     "output_type": "execute_result"
    }
   ],
   "source": [
    "values = [[td.text.replace('\\xa0', 'NaN') for td in tr.find_all('td')] for tr in list(t.find_all('tr'))[2:]]\n",
    "values"
   ]
  },
  {
   "cell_type": "code",
   "execution_count": 70,
   "metadata": {},
   "outputs": [
    {
     "data": {
      "text/html": [
       "<div>\n",
       "<style scoped>\n",
       "    .dataframe tbody tr th:only-of-type {\n",
       "        vertical-align: middle;\n",
       "    }\n",
       "\n",
       "    .dataframe tbody tr th {\n",
       "        vertical-align: top;\n",
       "    }\n",
       "\n",
       "    .dataframe thead th {\n",
       "        text-align: right;\n",
       "    }\n",
       "</style>\n",
       "<table border=\"1\" class=\"dataframe\">\n",
       "  <thead>\n",
       "    <tr style=\"text-align: right;\">\n",
       "      <th></th>\n",
       "      <th>Time_Hour</th>\n",
       "      <th>Temperature_degC</th>\n",
       "      <th>Precipitation_mm</th>\n",
       "      <th>WindDirection_16compasspoints</th>\n",
       "      <th>WindSpeed_m_s</th>\n",
       "      <th>SunshineDuration_h</th>\n",
       "      <th>Humidity_percent</th>\n",
       "      <th>Pressure_hPa</th>\n",
       "    </tr>\n",
       "  </thead>\n",
       "  <tbody>\n",
       "    <tr>\n",
       "      <th>0</th>\n",
       "      <td>1</td>\n",
       "      <td>20.3</td>\n",
       "      <td>1.0</td>\n",
       "      <td>ENE</td>\n",
       "      <td>3.5</td>\n",
       "      <td>NaN</td>\n",
       "      <td>100</td>\n",
       "      <td>1004.6</td>\n",
       "    </tr>\n",
       "    <tr>\n",
       "      <th>1</th>\n",
       "      <td>2</td>\n",
       "      <td>20.2</td>\n",
       "      <td>0.5</td>\n",
       "      <td>NE</td>\n",
       "      <td>1.6</td>\n",
       "      <td>NaN</td>\n",
       "      <td>100</td>\n",
       "      <td>1004.5</td>\n",
       "    </tr>\n",
       "    <tr>\n",
       "      <th>2</th>\n",
       "      <td>3</td>\n",
       "      <td>20.1</td>\n",
       "      <td>0.0</td>\n",
       "      <td>NE</td>\n",
       "      <td>2.1</td>\n",
       "      <td>NaN</td>\n",
       "      <td>100</td>\n",
       "      <td>1004.8</td>\n",
       "    </tr>\n",
       "    <tr>\n",
       "      <th>3</th>\n",
       "      <td>4</td>\n",
       "      <td>20.0</td>\n",
       "      <td>0.5</td>\n",
       "      <td>NE</td>\n",
       "      <td>2.6</td>\n",
       "      <td>0.0</td>\n",
       "      <td>100</td>\n",
       "      <td>1005.1</td>\n",
       "    </tr>\n",
       "    <tr>\n",
       "      <th>4</th>\n",
       "      <td>5</td>\n",
       "      <td>19.9</td>\n",
       "      <td>0.5</td>\n",
       "      <td>NE</td>\n",
       "      <td>3.3</td>\n",
       "      <td>0.0</td>\n",
       "      <td>100</td>\n",
       "      <td>1005.4</td>\n",
       "    </tr>\n",
       "    <tr>\n",
       "      <th>5</th>\n",
       "      <td>6</td>\n",
       "      <td>20.0</td>\n",
       "      <td>1.0</td>\n",
       "      <td>NE</td>\n",
       "      <td>2.4</td>\n",
       "      <td>0.0</td>\n",
       "      <td>100</td>\n",
       "      <td>1006.1</td>\n",
       "    </tr>\n",
       "    <tr>\n",
       "      <th>6</th>\n",
       "      <td>7</td>\n",
       "      <td>20.2</td>\n",
       "      <td>1.0</td>\n",
       "      <td>NE</td>\n",
       "      <td>2.1</td>\n",
       "      <td>0.0</td>\n",
       "      <td>100</td>\n",
       "      <td>1006.4</td>\n",
       "    </tr>\n",
       "    <tr>\n",
       "      <th>7</th>\n",
       "      <td>8</td>\n",
       "      <td>20.4</td>\n",
       "      <td>0.5</td>\n",
       "      <td>NE</td>\n",
       "      <td>1.7</td>\n",
       "      <td>0.0</td>\n",
       "      <td>100</td>\n",
       "      <td>1007.1</td>\n",
       "    </tr>\n",
       "    <tr>\n",
       "      <th>8</th>\n",
       "      <td>9</td>\n",
       "      <td>20.6</td>\n",
       "      <td>0.0</td>\n",
       "      <td>NE</td>\n",
       "      <td>2.3</td>\n",
       "      <td>0.0</td>\n",
       "      <td>99</td>\n",
       "      <td>1007.5</td>\n",
       "    </tr>\n",
       "    <tr>\n",
       "      <th>9</th>\n",
       "      <td>10</td>\n",
       "      <td>21.1</td>\n",
       "      <td>0.5</td>\n",
       "      <td>NE</td>\n",
       "      <td>1.8</td>\n",
       "      <td>0.0</td>\n",
       "      <td>99</td>\n",
       "      <td>1007.8</td>\n",
       "    </tr>\n",
       "    <tr>\n",
       "      <th>10</th>\n",
       "      <td>11</td>\n",
       "      <td>21.8</td>\n",
       "      <td>0.5</td>\n",
       "      <td>NNE</td>\n",
       "      <td>2.1</td>\n",
       "      <td>0.0</td>\n",
       "      <td>98</td>\n",
       "      <td>1008.0</td>\n",
       "    </tr>\n",
       "    <tr>\n",
       "      <th>11</th>\n",
       "      <td>12</td>\n",
       "      <td>22.4</td>\n",
       "      <td>0.0</td>\n",
       "      <td>ENE</td>\n",
       "      <td>3.3</td>\n",
       "      <td>0.0</td>\n",
       "      <td>91</td>\n",
       "      <td>1007.6</td>\n",
       "    </tr>\n",
       "    <tr>\n",
       "      <th>12</th>\n",
       "      <td>13</td>\n",
       "      <td>23.0</td>\n",
       "      <td>0.0</td>\n",
       "      <td>NE</td>\n",
       "      <td>1.9</td>\n",
       "      <td>0.1</td>\n",
       "      <td>85</td>\n",
       "      <td>1007.5</td>\n",
       "    </tr>\n",
       "    <tr>\n",
       "      <th>13</th>\n",
       "      <td>14</td>\n",
       "      <td>24.6</td>\n",
       "      <td>0.0</td>\n",
       "      <td>ENE</td>\n",
       "      <td>2.9</td>\n",
       "      <td>0.1</td>\n",
       "      <td>79</td>\n",
       "      <td>1007.7</td>\n",
       "    </tr>\n",
       "    <tr>\n",
       "      <th>14</th>\n",
       "      <td>15</td>\n",
       "      <td>23.7</td>\n",
       "      <td>0.0</td>\n",
       "      <td>NE</td>\n",
       "      <td>3.4</td>\n",
       "      <td>0.0</td>\n",
       "      <td>82</td>\n",
       "      <td>1008.0</td>\n",
       "    </tr>\n",
       "    <tr>\n",
       "      <th>15</th>\n",
       "      <td>16</td>\n",
       "      <td>24.1</td>\n",
       "      <td>0.0</td>\n",
       "      <td>E</td>\n",
       "      <td>1.7</td>\n",
       "      <td>0.0</td>\n",
       "      <td>82</td>\n",
       "      <td>1008.2</td>\n",
       "    </tr>\n",
       "    <tr>\n",
       "      <th>16</th>\n",
       "      <td>17</td>\n",
       "      <td>22.9</td>\n",
       "      <td>0.0</td>\n",
       "      <td>E</td>\n",
       "      <td>2.1</td>\n",
       "      <td>0.0</td>\n",
       "      <td>82</td>\n",
       "      <td>1008.5</td>\n",
       "    </tr>\n",
       "    <tr>\n",
       "      <th>17</th>\n",
       "      <td>18</td>\n",
       "      <td>22.2</td>\n",
       "      <td>0.0</td>\n",
       "      <td>ENE</td>\n",
       "      <td>1.6</td>\n",
       "      <td>0.0</td>\n",
       "      <td>85</td>\n",
       "      <td>1009.2</td>\n",
       "    </tr>\n",
       "    <tr>\n",
       "      <th>18</th>\n",
       "      <td>19</td>\n",
       "      <td>21.8</td>\n",
       "      <td>0.0</td>\n",
       "      <td>NE</td>\n",
       "      <td>2.8</td>\n",
       "      <td>0.0</td>\n",
       "      <td>86</td>\n",
       "      <td>1009.8</td>\n",
       "    </tr>\n",
       "    <tr>\n",
       "      <th>19</th>\n",
       "      <td>20</td>\n",
       "      <td>21.2</td>\n",
       "      <td>0.0</td>\n",
       "      <td>NE</td>\n",
       "      <td>3.6</td>\n",
       "      <td>0.0</td>\n",
       "      <td>84</td>\n",
       "      <td>1010.4</td>\n",
       "    </tr>\n",
       "    <tr>\n",
       "      <th>20</th>\n",
       "      <td>21</td>\n",
       "      <td>20.9</td>\n",
       "      <td>0.0</td>\n",
       "      <td>NE</td>\n",
       "      <td>2.5</td>\n",
       "      <td>NaN</td>\n",
       "      <td>87</td>\n",
       "      <td>1010.9</td>\n",
       "    </tr>\n",
       "    <tr>\n",
       "      <th>21</th>\n",
       "      <td>22</td>\n",
       "      <td>20.7</td>\n",
       "      <td>0.0</td>\n",
       "      <td>ENE</td>\n",
       "      <td>2.9</td>\n",
       "      <td>NaN</td>\n",
       "      <td>88</td>\n",
       "      <td>1011.6</td>\n",
       "    </tr>\n",
       "    <tr>\n",
       "      <th>22</th>\n",
       "      <td>23</td>\n",
       "      <td>19.6</td>\n",
       "      <td>0.5</td>\n",
       "      <td>NE</td>\n",
       "      <td>2.7</td>\n",
       "      <td>NaN</td>\n",
       "      <td>98</td>\n",
       "      <td>1011.8</td>\n",
       "    </tr>\n",
       "    <tr>\n",
       "      <th>23</th>\n",
       "      <td>24</td>\n",
       "      <td>19.5</td>\n",
       "      <td>0.5</td>\n",
       "      <td>NE</td>\n",
       "      <td>2.3</td>\n",
       "      <td>NaN</td>\n",
       "      <td>100</td>\n",
       "      <td>1011.8</td>\n",
       "    </tr>\n",
       "  </tbody>\n",
       "</table>\n",
       "</div>"
      ],
      "text/plain": [
       "   Time_Hour Temperature_degC Precipitation_mm WindDirection_16compasspoints  \\\n",
       "0          1             20.3              1.0                           ENE   \n",
       "1          2             20.2              0.5                            NE   \n",
       "2          3             20.1              0.0                            NE   \n",
       "3          4             20.0              0.5                            NE   \n",
       "4          5             19.9              0.5                            NE   \n",
       "5          6             20.0              1.0                            NE   \n",
       "6          7             20.2              1.0                            NE   \n",
       "7          8             20.4              0.5                            NE   \n",
       "8          9             20.6              0.0                            NE   \n",
       "9         10             21.1              0.5                            NE   \n",
       "10        11             21.8              0.5                           NNE   \n",
       "11        12             22.4              0.0                           ENE   \n",
       "12        13             23.0              0.0                            NE   \n",
       "13        14             24.6              0.0                           ENE   \n",
       "14        15             23.7              0.0                            NE   \n",
       "15        16             24.1              0.0                             E   \n",
       "16        17             22.9              0.0                             E   \n",
       "17        18             22.2              0.0                           ENE   \n",
       "18        19             21.8              0.0                            NE   \n",
       "19        20             21.2              0.0                            NE   \n",
       "20        21             20.9              0.0                            NE   \n",
       "21        22             20.7              0.0                           ENE   \n",
       "22        23             19.6              0.5                            NE   \n",
       "23        24             19.5              0.5                            NE   \n",
       "\n",
       "   WindSpeed_m_s SunshineDuration_h Humidity_percent Pressure_hPa  \n",
       "0            3.5                NaN              100       1004.6  \n",
       "1            1.6                NaN              100       1004.5  \n",
       "2            2.1                NaN              100       1004.8  \n",
       "3            2.6                0.0              100       1005.1  \n",
       "4            3.3                0.0              100       1005.4  \n",
       "5            2.4                0.0              100       1006.1  \n",
       "6            2.1                0.0              100       1006.4  \n",
       "7            1.7                0.0              100       1007.1  \n",
       "8            2.3                0.0               99       1007.5  \n",
       "9            1.8                0.0               99       1007.8  \n",
       "10           2.1                0.0               98       1008.0  \n",
       "11           3.3                0.0               91       1007.6  \n",
       "12           1.9                0.1               85       1007.5  \n",
       "13           2.9                0.1               79       1007.7  \n",
       "14           3.4                0.0               82       1008.0  \n",
       "15           1.7                0.0               82       1008.2  \n",
       "16           2.1                0.0               82       1008.5  \n",
       "17           1.6                0.0               85       1009.2  \n",
       "18           2.8                0.0               86       1009.8  \n",
       "19           3.6                0.0               84       1010.4  \n",
       "20           2.5                NaN               87       1010.9  \n",
       "21           2.9                NaN               88       1011.6  \n",
       "22           2.7                NaN               98       1011.8  \n",
       "23           2.3                NaN              100       1011.8  "
      ]
     },
     "execution_count": 70,
     "metadata": {},
     "output_type": "execute_result"
    }
   ],
   "source": [
    "df = pd.DataFrame(columns=headers_with_units, data=values)\n",
    "df"
   ]
  },
  {
   "cell_type": "code",
   "execution_count": 71,
   "metadata": {},
   "outputs": [
    {
     "data": {
      "text/plain": [
       "Time_Hour                        object\n",
       "Temperature_degC                 object\n",
       "Precipitation_mm                 object\n",
       "WindDirection_16compasspoints    object\n",
       "WindSpeed_m_s                    object\n",
       "SunshineDuration_h               object\n",
       "Humidity_percent                 object\n",
       "Pressure_hPa                     object\n",
       "dtype: object"
      ]
     },
     "execution_count": 71,
     "metadata": {},
     "output_type": "execute_result"
    }
   ],
   "source": [
    "df.dtypes"
   ]
  },
  {
   "cell_type": "code",
   "execution_count": 72,
   "metadata": {},
   "outputs": [],
   "source": [
    "df.to_csv('data/%s-hourly.csv' % id, index=False)"
   ]
  },
  {
   "cell_type": "code",
   "execution_count": 107,
   "metadata": {},
   "outputs": [],
   "source": [
    "def SanitizeUnit(name):\n",
    "    name = name.replace('°', 'deg').replace('%', 'percent')\n",
    "    return re.sub(r'\\W', '_', name)\n",
    "\n",
    "def ScrapeWeatherPage(content):\n",
    "    bs = bs4.BeautifulSoup(content)\n",
    "    tables = bs.find_all('table')\n",
    "    t = tables[4]\n",
    "    assert t.tr.td.text == 'Time', 'the page layout might have changed, could not find hourly data table'\n",
    "    id = re.sub(r'\\xa0+| +', '-', tables[3].tr.td.text)\n",
    "    assert re.search(r'2019', id), 'the page layout might have changed, could not extract title'\n",
    "    headers = [td.text for td in t.tr.find_all('td')]\n",
    "    units = [SanitizeUnit(td.text) for td in (t.find_all('tr')[1].find_all('td'))]\n",
    "    headers_with_units = list(map(lambda x: x[0]+'_'+x[1], zip(headers, units)))\n",
    "    values = [[td.text.replace('\\xa0', 'NaN') for td in tr.find_all('td')] for tr in list(t.find_all('tr'))[2:]]\n",
    "    df = pd.DataFrame(columns=headers_with_units, data=values)\n",
    "    return df, id\n",
    "\n",
    "def ScrapeAndSave(link=None, content=None, htmlfile=None):\n",
    "    if link:\n",
    "        page = requests.get(link)\n",
    "        content = page.content\n",
    "    elif htmlfile:\n",
    "        with open(htmlfile) as f:\n",
    "            content = f.read()\n",
    "    df, id = ScrapeWeatherPage(content)\n",
    "    assert(len(df) == 24), 'unexpected number of hours: %d != 24' % len(df)\n",
    "    df.to_csv('data/%s-hourly.csv' % id, index=False)\n",
    "    print('scraped %d rows to data/%s-hourly.csv' % (len(df), id))"
   ]
  },
  {
   "cell_type": "code",
   "execution_count": 103,
   "metadata": {},
   "outputs": [],
   "source": [
    "del df, id"
   ]
  },
  {
   "cell_type": "code",
   "execution_count": 97,
   "metadata": {},
   "outputs": [
    {
     "name": "stdout",
     "output_type": "stream",
     "text": [
      "scraped 24 rows to data/17-July-2019-Haneda-(Tokyo-International-Airport)-hourly.csv\n"
     ]
    }
   ],
   "source": [
    "ScrapeAndSave('https://www.jma.go.jp/en/amedas_h/today-44166.html?areaCode=000&groupCode=30')"
   ]
  },
  {
   "cell_type": "code",
   "execution_count": 93,
   "metadata": {},
   "outputs": [
    {
     "name": "stdout",
     "output_type": "stream",
     "text": [
      "scraped 24 rows to data/16-July-2019-Haneda-(Tokyo-International-Airport)-hourly.csv\n"
     ]
    }
   ],
   "source": [
    "ScrapeAndSave('https://www.jma.go.jp/en/amedas_h/yesterday-44166.html?areaCode=000&groupCode=30')"
   ]
  },
  {
   "cell_type": "code",
   "execution_count": 94,
   "metadata": {},
   "outputs": [
    {
     "name": "stdout",
     "output_type": "stream",
     "text": [
      "scraped 24 rows to data/17-July-2019-Tokyo-hourly.csv\n"
     ]
    }
   ],
   "source": [
    "ScrapeAndSave('https://www.jma.go.jp/en/amedas_h/today-44132.html?areaCode=000&groupCode=30')"
   ]
  },
  {
   "cell_type": "code",
   "execution_count": 95,
   "metadata": {},
   "outputs": [
    {
     "name": "stdout",
     "output_type": "stream",
     "text": [
      "scraped 24 rows to data/16-July-2019-Tokyo-hourly.csv\n"
     ]
    }
   ],
   "source": [
    "ScrapeAndSave('https://www.jma.go.jp/en/amedas_h/yesterday-44132.html?areaCode=000&groupCode=30')"
   ]
  },
  {
   "cell_type": "code",
   "execution_count": 108,
   "metadata": {},
   "outputs": [
    {
     "name": "stdout",
     "output_type": "stream",
     "text": [
      "scraped 24 rows to data/09-July-2019-Oshima-hourly.csv\n"
     ]
    }
   ],
   "source": [
    "ScrapeAndSave(htmlfile=\"data/oshima-2019-07-09.html\")"
   ]
  },
  {
   "cell_type": "code",
   "execution_count": 109,
   "metadata": {},
   "outputs": [
    {
     "name": "stdout",
     "output_type": "stream",
     "text": [
      "scraped 24 rows to data/09-July-2019-Setagaya-hourly.csv\n"
     ]
    }
   ],
   "source": [
    "ScrapeAndSave(htmlfile='data/setagaya-2019-07-09.html')"
   ]
  },
  {
   "cell_type": "code",
   "execution_count": 110,
   "metadata": {},
   "outputs": [
    {
     "name": "stdout",
     "output_type": "stream",
     "text": [
      "scraped 24 rows to data/09-July-2019-Tokyo-hourly.csv\n"
     ]
    }
   ],
   "source": [
    "ScrapeAndSave(htmlfile='data/tokyo-2019-07-09.html')"
   ]
  },
  {
   "cell_type": "code",
   "execution_count": null,
   "metadata": {},
   "outputs": [],
   "source": []
  }
 ],
 "metadata": {
  "kernelspec": {
   "display_name": "Python 3",
   "language": "python",
   "name": "python3"
  },
  "language_info": {
   "codemirror_mode": {
    "name": "ipython",
    "version": 3
   },
   "file_extension": ".py",
   "mimetype": "text/x-python",
   "name": "python",
   "nbconvert_exporter": "python",
   "pygments_lexer": "ipython3",
   "version": "3.6.5"
  }
 },
 "nbformat": 4,
 "nbformat_minor": 2
}
