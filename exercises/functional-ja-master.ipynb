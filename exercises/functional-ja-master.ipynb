{
  "nbformat": 4,
  "nbformat_minor": 0,
  "metadata": {
    "colab": {
      "name": "FP lecture (Japanese)",
      "version": "0.3.2",
      "provenance": [],
      "collapsed_sections": [
        "AX3rFJeYlqfw",
        "CB2CcEvSDp4w",
        "uCFRtQBH8IDo"
      ],
      "toc_visible": true
    },
    "kernelspec": {
      "name": "python2",
      "display_name": "Python 2"
    }
  },
  "cells": [
    {
      "cell_type": "markdown",
      "metadata": {
        "id": "75_s524ZbJMS",
        "colab_type": "text"
      },
      "source": [
        "# 関数型プログラミング (Functional Programming)\n",
        "\n",
        "この講義では **関数型プログラミング** (**functional programming**)というプログラミングスタイルを紹介し、それがプログラミングでどう役に立つかということを説明します。\n",
        "関数型プログラミングの概念を全く知らなくてもPythonでプログラムを書くことはできますが、理解しておくとより良いプログラムを書くのに役立つでしょう。\n",
        "\n",
        "We will introduce a programming style called **\"functional programming\"** and explain how it's useful in Python programming.\n",
        "Although you can write programs in Python without understanding functional programming, the concept of functional programming should help you to write better programs.\n",
        "\n",
        "The goal of this lecture is to tell basic concepts of functional programming so that you can make use of them in practical programming."
      ]
    },
    {
      "cell_type": "markdown",
      "metadata": {
        "id": "i2OUyeUqmhi7",
        "colab_type": "text"
      },
      "source": [
        "## 1. 関数型プログラミングとは (What's functional programming)"
      ]
    },
    {
      "cell_type": "markdown",
      "metadata": {
        "id": "2aGt5MWerydv",
        "colab_type": "text"
      },
      "source": [
        "この講義で扱う**関数型プログラミング (functional programming)**(または、関数プログラミング)というのは一般に、「入力から出力が一意に定まる\"関数\"の適用・合成によってプログラムを記述していくプログラミングスタイル」のことです。\n",
        "\n",
        "関数型プログラミングには以下のような利点が期待できます:\n",
        "* データの流れがわかりやすくなる\n",
        "* プログラムの分割・結合・再利用がしやすくなる\n",
        "* より高度な抽象化によって、複雑な処理がシンプルにかける\n",
        "\n",
        "「関数型プログラミング」というようなプログラミングスタイルの分類のことを **プログラミングパラダイム (programming paradigm)** といいます。\n",
        "\n",
        "他によく知られているパラダイムには以下のようなものがあります:\n",
        "* **手続き型プログラミング (procedual programming)**\n",
        "* **オブジェクト指向プログラミング (object-oriented programming)**\n",
        "* **宣言型プログラミング (declartive programming)**\n",
        "\n",
        "ただし、プログラミングパラダイムは、守らなければならない厳密なルールや絶対的なもの*ではありません*。\n",
        "むしろ、これらは理論と実践に基づいた、良いとされるプログラミングアプローチのようなものです。\n",
        "\n",
        "また、それぞれのパラダイムは対立するものではなく、独立な概念であるので、一つのプログラムでこれらのスタイルを共存させることもできます。\n",
        "例えばオブジェクト指向プログラミングとは、データや処理を\"オブジェクト\"としてまとめるスタイルですが、Pythonではこれは`Class`を用いることで実現できます。\n",
        "\n",
        "この講義では、関数型プログラミングのいくつかの基本的な概念を紹介し、実際のプログラミングに役立てられる形で身につけてもらうことを目標とします。\n",
        "\n",
        "---\n",
        "\n",
        "**Functional programming** is generally a programming style in which a program is written by applying / synthesizing a \"function\" that uniquely determines the output from the input.\".\n",
        "\n",
        "Functional programming can offer the following advantages:\n",
        "* Easy to understand the flow of data\n",
        "* Easy to split, combine and reuse programs\n",
        "* Able to write complex procedures in a simple way\n",
        "\n",
        "The classification of programming style like \"functional programming\" is called **programming paradigm**.\n",
        "Other well known paradigms include the following:\n",
        "* **Procedural programming**\n",
        "* **Object-oriented programming**\n",
        "* **Declarative programming**\n",
        "\n",
        "Note that programming paradigm is *not* a strict rule.\n",
        "Rather, they are like a good programming approach, based on theory and practice.\n",
        "\n",
        "Usually these paradigms are not conflicting, but are independent concepts, so it is possible to have these styles coexist in one program.\n",
        "For example, object-oriented programming is a style that combines data and processing as \"objects\", but in Python this can be achieved using `Class`."
      ]
    },
    {
      "cell_type": "markdown",
      "metadata": {
        "id": "AX3rFJeYlqfw",
        "colab_type": "text"
      },
      "source": [
        "## 2. 関数によるモジュール化 (Modularity)\n"
      ]
    },
    {
      "cell_type": "markdown",
      "metadata": {
        "id": "NjI-NBA9VJDr",
        "colab_type": "text"
      },
      "source": [
        "これまでの講義のなかで、「関数」を使えば何度も繰り返される操作をくくりだすことができることを学んできました。\n",
        "\n",
        "例えば次のプログラムを見てみましょう。ここでは、二人の学生の成績を計算しています。\n",
        "\n",
        "So far, we have learn that functions are a way to extract repeated sequences of instructions.\n",
        "\n",
        "For example, consider the following program, which calculates the final letter grade for two students:"
      ]
    },
    {
      "cell_type": "code",
      "metadata": {
        "id": "3IMiTiPlYssQ",
        "colab_type": "code",
        "outputId": "37bc3eea-96f2-4bdb-f1ae-60e82b95a987",
        "executionInfo": {
          "status": "ok",
          "timestamp": 1563723043767,
          "user_tz": -540,
          "elapsed": 639,
          "user": {
            "displayName": "Keiichi Watanabe",
            "photoUrl": "https://lh3.googleusercontent.com/a-/AAuE7mCXbo3WUEqGSdgGDLj87M6MHSXasbk_n2MMcaUs=s64",
            "userId": "01315856587179417490"
          }
        },
        "colab": {
          "height": 52
        }
      },
      "source": [
        "# A program that calculates the final grade for each student.\n",
        "\n",
        "# Scores for Assignment 1, Assignment 2, and Final Exam.\n",
        "sam_scores = [90, 80, 90]\n",
        "yuko_scores = [90, 100, 80]\n",
        "\n",
        "sam_weighted_score = 0.2 * sam_scores[0] + 0.2 * sam_scores[1] + 0.6 * sam_scores[2]\n",
        "sam_grade = 'PASS' if sam_weighted_score > 60 else 'FAIL'\n",
        "print('Sam\\'s final score: {} => {}'.format(sam_weighted_score, sam_grade))\n",
        "\n",
        "yuko_weighted_score = 0.2 * yuko_scores[0] + 0.2 * yuko_scores[1] + 0.6 * yuko_scores[2]\n",
        "yuko_grade = 'PASS' if yuko_weighted_score > 60 else 'FAIL'\n",
        "print('Yuko\\'s final score: {} => {}'.format(yuko_weighted_score, yuko_grade))"
      ],
      "execution_count": 0,
      "outputs": [
        {
          "output_type": "stream",
          "text": [
            "Sam's final score: 88.0 => PASS\n",
            "Yuko's final score: 86.0 => PASS\n"
          ],
          "name": "stdout"
        }
      ]
    },
    {
      "cell_type": "markdown",
      "metadata": {
        "id": "XC5yVimKZg0W",
        "colab_type": "text"
      },
      "source": [
        "プログラムのなかで `Sam` と `Yuko` の成績は同じ方法で計算をされています。\n",
        "しかし、このプログラムをすこし見ただけでは、本当に全く同じ方法で行われていることを確認するのはなかなか大変です。\n",
        "さらに、もし成績評価に関するパラメータを変えたくなったとした場合は、それぞれの学生に対する処理が同じになるよう、注意深くコードを変更する必要があります。\n",
        "\n",
        "このような問題は、成績評価をするための一連の処理の流れを「関数」としてまとめることで解決できます。\n",
        "以下のプログラムのように処理を関数にまとめれば、各学生に対し同じ関数を呼ぶだけで、同じ計算をしていることが保証できますし、パラメータを調整する際も変更箇所は関数の内側だけに限定されます。\n",
        "\n",
        "`Sam` and `Yuko`'s grades are calculated in exactly the same way. However, it is currently very difficult to make sure that these calculations are carried out consistently. If we change how a particular assignment is weighed, or what is the criteria for passing, then we need to carefully make these changes for every single student.\n",
        "\n",
        "To avoid this problem, we can group the sequence of instructions that calculates a student's grade into a function. We can then simply call this function for each student, and any change that we need to make to our assignment weights can happen inside this function."
      ]
    },
    {
      "cell_type": "code",
      "metadata": {
        "id": "pxHkAO0iafGW",
        "colab_type": "code",
        "outputId": "dd829d8c-3366-4ec7-df6a-bcdeac638398",
        "executionInfo": {
          "status": "ok",
          "timestamp": 1563723046955,
          "user_tz": -540,
          "elapsed": 719,
          "user": {
            "displayName": "Keiichi Watanabe",
            "photoUrl": "https://lh3.googleusercontent.com/a-/AAuE7mCXbo3WUEqGSdgGDLj87M6MHSXasbk_n2MMcaUs=s64",
            "userId": "01315856587179417490"
          }
        },
        "colab": {
          "height": 69
        }
      },
      "source": [
        "def calculate_grade(student_name, scores):\n",
        "  weighted_score = 0.2 * scores[0] + 0.2 * scores[1] + 0.6 * scores[2]\n",
        "  grade = 'PASS' if weighted_score > 60 else 'FAIL'\n",
        "  return '{}\\'s final score: {} => {}'.format(student_name, weighted_score, grade)\n",
        "\n",
        "print(calculate_grade('Sam', sam_scores))\n",
        "print(calculate_grade('Yuko', yuko_scores))\n",
        "\n",
        "devon_scores = [60, 50, 60]\n",
        "print(calculate_grade('Devon', devon_scores))"
      ],
      "execution_count": 0,
      "outputs": [
        {
          "output_type": "stream",
          "text": [
            "Sam's final score: 88.0 => PASS\n",
            "Yuko's final score: 86.0 => PASS\n",
            "Devon's final score: 58.0 => FAIL\n"
          ],
          "name": "stdout"
        }
      ]
    },
    {
      "cell_type": "markdown",
      "metadata": {
        "id": "TOxeMwzp_yR-",
        "colab_type": "text"
      },
      "source": [
        "このように関数でまとめると、あとから処理を変更しやすかったり、新たな学生を追加したりといったことが簡単になります。\n",
        "\n",
        "このように処理を関数によって分割することを**モジュール化**といいます。プログラムをモジュール化することで、プログラムのデバッグや再利用が簡単になります。\n",
        "\n",
        "As shown above, it's much easier to change the function and add new students after using a function.\n",
        "\n",
        "It is called **modularization** that a procedure is splited as functions in this way. By modularizing programs, it is easier to debug and reuse programs."
      ]
    },
    {
      "cell_type": "markdown",
      "metadata": {
        "id": "KtStYZsmAkCv",
        "colab_type": "text"
      },
      "source": [
        "## 3. 純粋関数 (Pure Function)"
      ]
    },
    {
      "cell_type": "markdown",
      "metadata": {
        "id": "0mZ-2EG3r6F_",
        "colab_type": "text"
      },
      "source": [
        "ところで、上で実装した `calculate_grade` を何度も呼ぶと何が起こるでしょうか？\n",
        "\n",
        "By the way, what will happen if we call `calculate_grade` multiple times?"
      ]
    },
    {
      "cell_type": "code",
      "metadata": {
        "id": "C7DUilSQJkzv",
        "colab_type": "code",
        "outputId": "ffa97071-9b1d-4aa2-dc8d-e2256363388c",
        "executionInfo": {
          "status": "ok",
          "timestamp": 1563723050667,
          "user_tz": -540,
          "elapsed": 597,
          "user": {
            "displayName": "Keiichi Watanabe",
            "photoUrl": "https://lh3.googleusercontent.com/a-/AAuE7mCXbo3WUEqGSdgGDLj87M6MHSXasbk_n2MMcaUs=s64",
            "userId": "01315856587179417490"
          }
        },
        "colab": {
          "height": 69
        }
      },
      "source": [
        "print(calculate_grade('Sam', sam_scores))\n",
        "print(calculate_grade('Sam', sam_scores))\n",
        "print(calculate_grade('Sam', sam_scores)) # Call again => same message will be printed"
      ],
      "execution_count": 0,
      "outputs": [
        {
          "output_type": "stream",
          "text": [
            "Sam's final score: 88.0 => PASS\n",
            "Sam's final score: 88.0 => PASS\n",
            "Sam's final score: 88.0 => PASS\n"
          ],
          "name": "stdout"
        }
      ]
    },
    {
      "cell_type": "markdown",
      "metadata": {
        "id": "vt5yGHcBKGCu",
        "colab_type": "text"
      },
      "source": [
        "もちろん同じ値が何度も返されます。\n",
        "同じ値を引数にあたえているのだから当たり前に思えます。\n",
        "では、次の関数 `calculate_grade_impure` はどうでしょうか？\n",
        "\n",
        "Of course, the same value is returned for each call.\n",
        "It is natural because the same value is given to the argument.\n",
        "So what about the following function `calculate_grade_impure`?"
      ]
    },
    {
      "cell_type": "code",
      "metadata": {
        "id": "gK3EkprHAtA8",
        "colab_type": "code",
        "outputId": "57bd3f69-d09d-4ff2-994e-4c0f6aef5561",
        "executionInfo": {
          "status": "ok",
          "timestamp": 1563723268834,
          "user_tz": -540,
          "elapsed": 928,
          "user": {
            "displayName": "Keiichi Watanabe",
            "photoUrl": "https://lh3.googleusercontent.com/a-/AAuE7mCXbo3WUEqGSdgGDLj87M6MHSXasbk_n2MMcaUs=s64",
            "userId": "01315856587179417490"
          }
        },
        "colab": {
          "height": 69
        }
      },
      "source": [
        "# Impure version\n",
        "def calculate_grade_impure(student_name, scores):\n",
        "  scores[0] *= 0.2\n",
        "  scores[1] *= 0.2\n",
        "  scores[2] *= 0.6\n",
        "  weighted_score = scores[0] + scores[1] + scores[2]\n",
        "  grade = 'PASS' if weighted_score > 60 else 'FAIL'\n",
        "  return '{}\\'s final score: {} => {}'.format(student_name, weighted_score, grade)\n",
        "\n",
        "print(calculate_grade_impure('Sam', sam_scores))\n",
        "print(calculate_grade_impure('Sam', sam_scores))\n",
        "print(calculate_grade_impure('Sam', sam_scores)) # Call again => different result!!"
      ],
      "execution_count": 0,
      "outputs": [
        {
          "output_type": "stream",
          "text": [
            "Sam's final score: 88.0 => PASS\n",
            "Sam's final score: 39.2 => FAIL\n",
            "Sam's final score: 20.8 => FAIL\n"
          ],
          "name": "stdout"
        }
      ]
    },
    {
      "cell_type": "markdown",
      "metadata": {
        "id": "44i9aRxKK30u",
        "colab_type": "text"
      },
      "source": [
        "関数を呼ぶたびに`Sam`のscoreが減少してしまいました！ これは `calculate_grade_impure` の内部で `score` の値自体を変更してしまっているためです。\n",
        "\n",
        "この `calculate_grade_impure` が行うような、返り値の計算に直接関係ない状態を変える処理などのことを **副作用**　とよびます。副作用のない関数を**「純粋関数」**といいます。今回の場合、`calculate_grade` は純粋関数であり、`calculate_grade_impure` は非純粋関数です。\n",
        "\n",
        "関数型プログラミングにおいて、非純粋関数よりも純粋関数のほうが推奨されます。\n",
        "今回の例でみたように、非純粋関数を呼ぶ際にはデータがどのように変わるのかということに注意を払う必要があり、プログラムの複雑性が増すためです。\n",
        "また、純粋関数のほうが、コードの再利用がしやすいという利点があります。\n",
        "\n",
        "ただし、Pythonにおいて、非純粋関数を完全になくすことは現実的ではありませんし、純粋関数はパフォーマンス上不利になることもあります。\n",
        "ただ、関数を定義する際や呼ぶ際にそれがどんな副作用を持つかどうかを意識するのは大切です。\n",
        "\n",
        "Every time you call the function `calculate_grade_impure`, the score of `Sam` has decreased! This is because `score` itself has been changed inside.`calculate_grade_impure`\n",
        "\n",
        "Changeing the state not directly related to the main computation is called **side effects**. Functions with no side effects are called **\"pure functions\"**. In this case, `calculate_grade` is a pure function, and` calculate_grade_impure` is an impure function.\n",
        "\n",
        "For functional programming, pure functions are recommended over non-pure functions.\n",
        "As we saw in this example, it is necessary to pay attention to how data changes when calling an impure function, which increases the complexity of the program.\n",
        "Also, pure functions have the advantage of being easier to reuse code.\n",
        "\n",
        "However, in Python, it is not realistic to completely eliminate impure functions, and pure functions may be disadvantageous for performance.\n",
        "However, when defining or calling a function it is still important to be aware of what side effects it has."
      ]
    },
    {
      "cell_type": "markdown",
      "metadata": {
        "id": "vnpO2DurbbUX",
        "colab_type": "text"
      },
      "source": [
        "## 4. 第一級オブジェクトとしての関数 (Function as a first-class object)\n",
        "\n",
        "Pythonにおいて、関数は変数に格納されたり、他の関数の引数や返り値になることができます。\n",
        "このことを関数が **第一級オブジェクト (first-class object)** として扱われるといいます。第一級オブジェクトとは、変数への代入や関数の引数や返り値になることなどができる値のことです。他には数値型や`String`型の値、リスト、辞書、Class なども第一級オブジェクトです。\n",
        "\n",
        "この「関数が第一級オブジェクトである」性質は、我々は「数値」や「文字列」と同様に、それらに対する「操作」をもプログラムの中で持ち回すことを意味します。\n",
        "この性質をうまく使いこなすことで、より簡潔でわかりやすいプログラムをかけることがあります。\n",
        "\n",
        "As it turns out, a function is simply an object you can call. Otherwise, a function behaves no differently from other objects. This property is incredibly powerful as it allows us to move *operations* around our code."
      ]
    },
    {
      "cell_type": "markdown",
      "metadata": {
        "id": "hZS8z-qzfnVl",
        "colab_type": "text"
      },
      "source": [
        "それでは実際の例をみていきましょう。\n",
        "まず、関数は数値などの値と同様に変数に代入することができ、それをいつも通り呼び出すことができます。\n",
        "\n",
        "Let's take a look at how this works more concretely. First, we can assign functions to variables, and call them as usual.\n"
      ]
    },
    {
      "cell_type": "code",
      "metadata": {
        "id": "ew6nj-1AfWsg",
        "colab_type": "code",
        "outputId": "b2127dbe-325e-42e0-e485-f15b2fb49c2e",
        "executionInfo": {
          "status": "ok",
          "timestamp": 1563661769170,
          "user_tz": -540,
          "elapsed": 860,
          "user": {
            "displayName": "Keiichi Watanabe",
            "photoUrl": "https://lh3.googleusercontent.com/a-/AAuE7mCXbo3WUEqGSdgGDLj87M6MHSXasbk_n2MMcaUs=s64",
            "userId": "01315856587179417490"
          }
        },
        "colab": {
          "height": 34
        }
      },
      "source": [
        "def square(x):\n",
        "  return x ** 2\n",
        "\n",
        "# We can assign a function `square` to a variable `my_square`\n",
        "my_square = square\n",
        "\n",
        "# The variable can be called since it contains a function.\n",
        "print(my_square(3))"
      ],
      "execution_count": 0,
      "outputs": [
        {
          "output_type": "stream",
          "text": [
            "9\n"
          ],
          "name": "stdout"
        }
      ]
    },
    {
      "cell_type": "markdown",
      "metadata": {
        "id": "BxLrn6y5f1Sc",
        "colab_type": "text"
      },
      "source": [
        "関数をリストに格納することもできます。\n",
        "これは例えば連続して呼ぶべき関数があったときなどに役立つでしょう。\n",
        "\n",
        "We can also add functions to a list. This can be useful if we have a series of functions that we need to call."
      ]
    },
    {
      "cell_type": "code",
      "metadata": {
        "id": "2bHAYl2jfz2Q",
        "colab_type": "code",
        "outputId": "7f4eafeb-e47d-4355-8238-be494b015af0",
        "executionInfo": {
          "status": "ok",
          "timestamp": 1563661897879,
          "user_tz": -540,
          "elapsed": 960,
          "user": {
            "displayName": "Keiichi Watanabe",
            "photoUrl": "https://lh3.googleusercontent.com/a-/AAuE7mCXbo3WUEqGSdgGDLj87M6MHSXasbk_n2MMcaUs=s64",
            "userId": "01315856587179417490"
          }
        },
        "colab": {
          "height": 52
        }
      },
      "source": [
        "def square(x):\n",
        "  return x ** 2\n",
        "\n",
        "\n",
        "def cube(x):\n",
        "  return x ** 3\n",
        "\n",
        "# Creating a list of functions.\n",
        "power_functions = [ square, cube ]\n",
        "for power_function in power_functions:\n",
        "  print(power_function(3))"
      ],
      "execution_count": 0,
      "outputs": [
        {
          "output_type": "stream",
          "text": [
            "9\n",
            "27\n"
          ],
          "name": "stdout"
        }
      ]
    },
    {
      "cell_type": "markdown",
      "metadata": {
        "id": "nfQnv1_6gg9m",
        "colab_type": "text"
      },
      "source": [
        "また、関数を別の関数に引数として渡したり、関数の返り値にすることもできます。\n",
        "引数や返り値が関数である関数のことを**高階関数 (higher-order function)** といいます。\n",
        "\n",
        "高階関数を用いることでより進んだ抽象化を行うことができます。\n",
        "リストをソートする操作を考えてみましょう。\n",
        "「リスト内の値を並べ替える」という操作はとても一般的なものです。\n",
        "しかし、あるリストにおいて「どんな値が先にくるべきか」というのは、用途に\n",
        "そこでPythonは ソートを行う `sorted(...)` を高階関数として提供しています。\n",
        "`sorted` を呼ぶ際に `key` としてどの値で並べ替えるべきかを指定する関数を与えることができます。\n",
        "\n",
        "We can also pass functions to functions as arguments. This is most helpful when we have a general pattern, and we need specific operations to make these patterns relevant to our programs.\n",
        "\n",
        "A good example that we mentioned earlier is sorting, where \"what should come first\" is very dependent on our program. For example, for Python's built in `sorted(...)` function, we use the `key` argument to tell the function which of the students' attributes to sort by."
      ]
    },
    {
      "cell_type": "code",
      "metadata": {
        "id": "2pt1JXIYgwRP",
        "colab_type": "code",
        "outputId": "cbf74f91-dbea-4a8e-9992-0ebdc88d33b8",
        "executionInfo": {
          "status": "ok",
          "timestamp": 1563025378107,
          "user_tz": -540,
          "elapsed": 594,
          "user": {
            "displayName": "Victor Kwan",
            "photoUrl": "https://lh3.googleusercontent.com/a-/AAuE7mCB46iGJ-0FDuKOowcSP9ZDbLNs0daZ3I2xrySdNA=s64",
            "userId": "09664034084960803357"
          }
        },
        "colab": {
          "height": 50
        }
      },
      "source": [
        "student_ages = [('Sam', 18), ('Yuko', 20), ('Devon', 19)]\n",
        "\n",
        "# Sort by age\n",
        "def get_age(student):\n",
        "  return student[1]\n",
        "\n",
        "print(sorted(student_ages, key=get_age))\n",
        "\n",
        "# Sort names in alphabetical order.\n",
        "def get_name(student):\n",
        "  return student[0]\n",
        "\n",
        "print(sorted(student_ages, key=get_name))"
      ],
      "execution_count": 0,
      "outputs": [
        {
          "output_type": "stream",
          "text": [
            "[('Sam', 18), ('Devon', 19), ('Yuko', 20)]\n",
            "[('Devon', 19), ('Sam', 18), ('Yuko', 20)]\n"
          ],
          "name": "stdout"
        }
      ]
    },
    {
      "cell_type": "markdown",
      "metadata": {
        "id": "R29R_69SllrO",
        "colab_type": "text"
      },
      "source": [
        "さらに、関数を関数の中で定義し、それを返すことも可能です。\n",
        "次の例では関数`create_adder`の情報を*capture* した`adder`という関数を定義し、それを返しています。\n",
        "\n",
        "Finally, just like objects, functions can be *defined* and *returned* in functions. This is an advanced technique that will not be covered in this notebook, but allows information in the outer function to be \"captured\" by the inner function."
      ]
    },
    {
      "cell_type": "code",
      "metadata": {
        "id": "KSu1ns9gmMcS",
        "colab_type": "code",
        "outputId": "58792e16-a88d-47d1-cf1a-074170ee6830",
        "executionInfo": {
          "status": "ok",
          "timestamp": 1563025835030,
          "user_tz": -540,
          "elapsed": 447,
          "user": {
            "displayName": "Victor Kwan",
            "photoUrl": "https://lh3.googleusercontent.com/a-/AAuE7mCB46iGJ-0FDuKOowcSP9ZDbLNs0daZ3I2xrySdNA=s64",
            "userId": "09664034084960803357"
          }
        },
        "colab": {
          "height": 34
        }
      },
      "source": [
        "def create_adder(k):\n",
        "  def adder(x):\n",
        "    # k is captured from the outer function.\n",
        "    return x + k\n",
        "  return adder\n",
        "\n",
        "\n",
        "adder_5 = create_adder(5)\n",
        "print(adder_5(3))"
      ],
      "execution_count": 0,
      "outputs": [
        {
          "output_type": "stream",
          "text": [
            "8\n"
          ],
          "name": "stdout"
        }
      ]
    },
    {
      "cell_type": "markdown",
      "metadata": {
        "id": "TvTvxdDVmbt4",
        "colab_type": "text"
      },
      "source": [
        "## 5. Exercise: 高階関数 (Higher-order functions)"
      ]
    },
    {
      "cell_type": "markdown",
      "metadata": {
        "id": "CB2CcEvSDp4w",
        "colab_type": "text"
      },
      "source": [
        "### 5.1. Calling Functions from Functions"
      ]
    },
    {
      "cell_type": "markdown",
      "metadata": {
        "id": "nCTjEcOi772H",
        "colab_type": "text"
      },
      "source": [
        "2引数関数`f`と2つの値`x, y`を受け取り、`f(x, y)` を返す関数 `call2` を実装してください。\n",
        "\n",
        "Define a function named `call2(...)` that takes a function and two arguments, and returns the value when this function is called with the two arguments.\n",
        "\n",
        "#### 実行例\n",
        "\n",
        "```python\n",
        "def add(x, y):\n",
        "  return x + y\n",
        "\n",
        "print(call2(add, 5, 10)) # Prints 15.\n",
        "```"
      ]
    },
    {
      "cell_type": "code",
      "metadata": {
        "id": "r_0HkD6UFpoG",
        "colab_type": "code",
        "colab": {}
      },
      "source": [
        "def call2(f, x, y):\n",
        "  # IF SOLUTION\n",
        "  return f(x, y)\n",
        "  # ELSE SOLUTION\n",
        "  pass\n",
        "  # END SOLUTION"
      ],
      "execution_count": 0,
      "outputs": []
    },
    {
      "cell_type": "code",
      "metadata": {
        "id": "ccrAyumVF2te",
        "colab_type": "code",
        "colab": {}
      },
      "source": [
        "# Note: the \"lambda\" syntax is a shorthand for creating a function with no name.\n",
        "# For more information, see:\n",
        "# https://docs.python.org/3/tutorial/controlflow.html#lambda-expressions\n",
        "assert call2(lambda x, y: x + y, 5, 10) == 15\n",
        "assert call2(lambda x, y: x * y, 5, 0) == 0\n",
        "assert call2(lambda x, y: '(%d, %d)' % (x, y), 20, 21) == '(20, 21)'"
      ],
      "execution_count": 0,
      "outputs": []
    },
    {
      "cell_type": "markdown",
      "metadata": {
        "id": "myKPcvop7rph",
        "colab_type": "text"
      },
      "source": [
        "### 5.2. Returning the First Item that Matches a Predicate"
      ]
    },
    {
      "cell_type": "markdown",
      "metadata": {
        "id": "LDDhP8YfEV4b",
        "colab_type": "text"
      },
      "source": [
        "引数を受け取り、`True` か `False` を返す純粋関数をpredicate (述語)と呼ぶことにします。\n",
        "例えば、次の関数`greater_than_5` はpredicateです。\n",
        "```python\n",
        "def greater_than_5(x):\n",
        "  return x > 5\n",
        "```\n",
        "\n",
        "predicateとリストを受け取り、リストの要素のうちpredicateが`True`を返す最初の要素を返す関数`find_first_match` を実装してください。\n",
        "ただし、そのような要素が存在しない場合、`None` を返してください。\n",
        "\n",
        "Define a function `find_first_match(...)` that takes a predicate and a list, and returns the first matching item. If there is no such item, then return `None`.\n",
        "\n",
        "#### 実行例\n",
        "\n",
        "```python\n",
        "# Prints 8, which is the first item greater than 5.\n",
        "print(find_first_match(greater_than_5, [1, 2, 3, 8, 9]))\n",
        "\n",
        "# Prints None\n",
        "print(find_first_match(greater_than_5, [1, 2, 3, -8, -9]))\n",
        "```"
      ]
    },
    {
      "cell_type": "code",
      "metadata": {
        "id": "JL9madt0EpJ_",
        "colab_type": "code",
        "colab": {}
      },
      "source": [
        "def find_first_match(predicate, items):\n",
        "  # IF SOLUTION\n",
        "  for x in items:\n",
        "    if predicate(x):\n",
        "      return x\n",
        "  # ELSE SOLUTION\n",
        "  pass\n",
        "  # END SOLUTION"
      ],
      "execution_count": 0,
      "outputs": []
    },
    {
      "cell_type": "code",
      "metadata": {
        "id": "9edQgzuvE1zi",
        "colab_type": "code",
        "colab": {}
      },
      "source": [
        "assert find_first_match(lambda x: x > 5, [1, 2, 3, 8, 9]) == 8\n",
        "assert find_first_match(lambda x: x, [False, False, True]) == True\n",
        "assert find_first_match(lambda x: x == 10, [11, 12, 8]) == None"
      ],
      "execution_count": 0,
      "outputs": []
    },
    {
      "cell_type": "markdown",
      "metadata": {
        "id": "YA6Y7S9jL33v",
        "colab_type": "text"
      },
      "source": [
        "### 5.3. Filtering Items in a List"
      ]
    },
    {
      "cell_type": "markdown",
      "metadata": {
        "id": "6CvWxTq2pDZK",
        "colab_type": "text"
      },
      "source": [
        "Predicateとリストを受け取り、リストの各要素のうち Predicateが`True`を返すもののみからなるリストを返す関数 `my_filter` を実装してください。\n",
        "ただし、`my_filter` が返すリスト内の要素の順序は元のリストの順序を保存するものとします。\n",
        "\n",
        "Define a function `filter_items(...)` that takes a predicate and a list of items, and returns only the items for which the predicate returns `True`.\n",
        "`my_filter` has to preserve the order of items in the list passed as an argument.\n",
        "\n",
        "#### 実行例\n",
        "\n",
        "```python\n",
        "def greater_than_3(x):\n",
        "  return x > 3\n",
        "\n",
        " # Prints [4, 8, 10]\n",
        "print(my_filter(greater_than_3, [4, 2, 8, -3, 10, 3]))\n",
        "\n",
        "def longer_than_3(x):\n",
        "  return len(x) > 3\n",
        "\n",
        "# Prints ['elephant', 'hippopotamus'].\n",
        "print(my_filter(longer_than_3, ['dog', 'elephant', 'cat', 'hippopotamus']))\n",
        "```"
      ]
    },
    {
      "cell_type": "code",
      "metadata": {
        "id": "dyPoS0icpC1y",
        "colab_type": "code",
        "colab": {}
      },
      "source": [
        "def my_filter(predicate, items):\n",
        "  # IF SOLUTION\n",
        "  filtered_items = []\n",
        "  for item in items:\n",
        "    if (predicate(item)):\n",
        "      filtered_items.append(item)\n",
        "  return filtered_items\n",
        "  # ELSE SOLUTION\n",
        "  pass\n",
        "  # END SOLUTION"
      ],
      "execution_count": 0,
      "outputs": []
    },
    {
      "cell_type": "code",
      "metadata": {
        "id": "nx7pEQhJpuRR",
        "colab_type": "code",
        "colab": {}
      },
      "source": [
        "assert(my_filter(lambda x : x > 3, [4, 2, 8, -3, 10, 3]) == \n",
        "       [4, 8, 10])\n",
        "\n",
        "assert (my_filter(lambda x: len(x) > 3, \n",
        "                  ['dog', 'elephant', 'cat', 'hippopotamus']) == \n",
        "        ['elephant', 'hippopotamus'])\n",
        "\n",
        "assert my_filter(lambda x: x > 2, [2, 4, 5]) == [4, 5]\n",
        "assert my_filter(lambda x: x, [True, True, False]) == [True, True]\n",
        "assert (my_filter(lambda x: x[0] * x[1] < 1, [(1, 0.5), (0.8, 0.9),\n",
        "                                                 (2, 1)]) == [(1, 0.5),\n",
        "                                                              (0.8, 0.9)])"
      ],
      "execution_count": 0,
      "outputs": []
    },
    {
      "cell_type": "markdown",
      "metadata": {
        "id": "KM6TDYWmLAZe",
        "colab_type": "text"
      },
      "source": [
        "### 5.4. `map`: リストの各要素に関数適用をする関数 (`map`: Appying a Function to Each Item in a List)"
      ]
    },
    {
      "cell_type": "markdown",
      "metadata": {
        "id": "HUVbZaZrmqbv",
        "colab_type": "text"
      },
      "source": [
        "関数とリストを受け取り、そのリストの各要素に受け取った関数を適用して得られるリストを返す関数 `my_map` を実装してください。\n",
        "\n",
        "Define a function `my_map(...)` that takes a function and a list of items, and returns the list of items after the function has been applied on each of the items.\n",
        "\n",
        "#### 実行例\n",
        "\n",
        "```python\n",
        "def square(x):\n",
        "  return x ** 2\n",
        "\n",
        "print(my_map(square, [1, 2, 3])) # Prints [1, 4, 9].\n",
        "\n",
        "def expand3(x):\n",
        "  return [x] * 3\n",
        "\n",
        "print(my_map(expand3, [1, 2, 3])) # Prints [[1, 1, 1], [2, 2, 2], [3, 3, 3]].\n",
        "```"
      ]
    },
    {
      "cell_type": "code",
      "metadata": {
        "id": "hpVUUt77oL_p",
        "colab_type": "code",
        "colab": {}
      },
      "source": [
        "def my_map(function, items):\n",
        "  # IF SOLUTION\n",
        "  transformed_items = []\n",
        "  for item in items:\n",
        "    transformed_items.append(function(item))\n",
        "  return transformed_items\n",
        "  # ELSE SOLUTION\n",
        "  pass\n",
        "  # END SOLUTION"
      ],
      "execution_count": 0,
      "outputs": []
    },
    {
      "cell_type": "code",
      "metadata": {
        "id": "5crQ1GoooavC",
        "colab_type": "code",
        "colab": {}
      },
      "source": [
        "assert my_map(lambda x: x, [1, 2, 3]) == [1, 2, 3]\n",
        "assert my_map(lambda x: x[0], [(1, 2), (2, 3), (3, 4)]) == [1, 2, 3]\n",
        "assert my_map(lambda x: x > 3, [8, 2, 1]) == [True, False, False]"
      ],
      "execution_count": 0,
      "outputs": []
    },
    {
      "cell_type": "markdown",
      "metadata": {
        "id": "RMJ0ijT3L8sx",
        "colab_type": "text"
      },
      "source": [
        "### Aside: Python's Built-In Functional Primitives\n",
        "\n",
        "さて、ここまで実装してきた `my_filter` と `my_map` はよくつかわれる処理なので、Pythonでbuilt-in関数として用意されています。\n",
        "それぞれ、`filter`, `map` という関数です。\n",
        "\n",
        "As it turns out, the `my_filter(...)` and `my_map(...)` that you implemented are such common operations that they have been built into the Python language itself! "
      ]
    },
    {
      "cell_type": "code",
      "metadata": {
        "id": "kHqa2zHRo_19",
        "colab_type": "code",
        "colab": {}
      },
      "source": [
        "filtered_list = list(filter(lambda x : x > 3, [4, 2, 8, -3, 10, 3])) \n",
        "assert(filtered_list == [4, 8, 10])\n",
        "\n",
        "mapped_list = list(map(lambda x: x**2, [1, 2, 3]))\n",
        "assert(mapped_list == [1, 4, 9])"
      ],
      "execution_count": 0,
      "outputs": []
    },
    {
      "cell_type": "markdown",
      "metadata": {
        "id": "l2fy4lodpCku",
        "colab_type": "text"
      },
      "source": [
        "また、これらの処理は **リスト内包表記 (list comprehension)** という機能をつかうことでも記述することができます。\n",
        "\n",
        "例えば、`map`に対応する処理はこのように実装できます。\n",
        "\n",
        "Also, you can use **list comprehension** to implement such list operations.\n",
        "By default, we can transform items like so:\n"
      ]
    },
    {
      "cell_type": "code",
      "metadata": {
        "id": "gPP-Bdm5qqR1",
        "colab_type": "code",
        "colab": {}
      },
      "source": [
        "# Prints [1, 4, 9].\n",
        "print([x ** 2 for x in [1, 2, 3]])"
      ],
      "execution_count": 0,
      "outputs": []
    },
    {
      "cell_type": "markdown",
      "metadata": {
        "id": "ykKvCBO5quJI",
        "colab_type": "text"
      },
      "source": [
        "また、`filter` に対応する処理は、述語をリスト内包表記の末尾に `if` とともに書くことで記述できます。\n",
        "\n",
        "Then, to filter the items, we add the predicate at the end of the list comprehension:\n"
      ]
    },
    {
      "cell_type": "code",
      "metadata": {
        "id": "FIHKcYoMrBaK",
        "colab_type": "code",
        "colab": {}
      },
      "source": [
        "print([x for x in [4, 2, 8, -3, 10, 3] if x > 3])"
      ],
      "execution_count": 0,
      "outputs": []
    },
    {
      "cell_type": "markdown",
      "metadata": {
        "id": "cR-6W4uArX1Y",
        "colab_type": "text"
      },
      "source": [
        "もっと複雑なこともこともできます。\n",
        "ただ、リスト内包表記で複雑なことをしすぎるとコードの可読性が落ちるため、このような例では単に for-loopやif文を使ったほうがいいでしょう。\n",
        "\n",
        "We can write more complex operations in list comprehension!\n",
        "This syntax can get quite complicated, with list comprehensions inside of list comprehensions! This is a very powerful tool, but we need to be careful that we are writing code that others can understand. For example, in the following case, we might be better off just using our normal for-loops and if-statements."
      ]
    },
    {
      "cell_type": "code",
      "metadata": {
        "id": "VFG9kgnFrzJE",
        "colab_type": "code",
        "outputId": "0cd1e23f-4e05-47ea-e2d4-3d833c99e1a9",
        "executionInfo": {
          "status": "ok",
          "timestamp": 1563732075134,
          "user_tz": -540,
          "elapsed": 908,
          "user": {
            "displayName": "Keiichi Watanabe",
            "photoUrl": "https://lh3.googleusercontent.com/a-/AAuE7mCXbo3WUEqGSdgGDLj87M6MHSXasbk_n2MMcaUs=s64",
            "userId": "01315856587179417490"
          }
        },
        "colab": {
          "height": 69
        }
      },
      "source": [
        "# Prints [4, 9] since only x > 1 are transformed.\n",
        "print([x ** 2 for x in [1, 2, 3] if x > 1])\n",
        "\n",
        "# Creates a list of squares for each number in [1, 2, 3] that is larger than 1.\n",
        "print([[x ** 2 for x in range(y)] for y in [1, 2, 3] if y > 1])\n",
        "\n",
        "print([[[x] * 2 for x in y] for y in [[1, 2], [2, 3], [3, 4]] if y > 1])"
      ],
      "execution_count": 0,
      "outputs": [
        {
          "output_type": "stream",
          "text": [
            "[4, 9]\n",
            "[[0, 1], [0, 1, 4]]\n",
            "[[[1, 1], [2, 2]], [[2, 2], [3, 3]], [[3, 3], [4, 4]]]\n"
          ],
          "name": "stdout"
        }
      ]
    },
    {
      "cell_type": "markdown",
      "metadata": {
        "id": "VJ9rem0u3i1X",
        "colab_type": "text"
      },
      "source": [
        "## 6. Exercise: オブジェクト指向プログラミングと関数型プログラミング (OOP and FP)\n",
        "\n",
        "この節では、ここまでで学んだ関数型プログラミング的考え方と、classを用いるオブジェクト指向的考え方をあわせて、データ処理を行うプログラムを書いてみましょう。\n",
        "\n",
        "今回は`\"('市町村名', 人口, 面積)\"` というタプルのリストに対する処理をするプログラムを考えます。\n",
        "\n",
        "In this section, let's write a program that performs data processing, combining the functional programming and the object-oriented programming.\n",
        "\n",
        "Here, let's consider a program that operates on a list of tuples `\" ('city name', population, area) \"`.\n",
        "\n",
        "```python\n",
        "test_data = [('Chiyoda',   64894, 11.66),\n",
        "             ('Chuo',     164064, 10.21),\n",
        "             ('Minato',   259042, 20.37),\n",
        "             ('Shinjuku', 349844, 18.22),\n",
        "             ('Bunkyo',   233926, 11.29),\n",
        "             ('Taito',    207838, 10.11)]\n",
        "```"
      ]
    },
    {
      "cell_type": "markdown",
      "metadata": {
        "id": "veRfm1JVAD6r",
        "colab_type": "text"
      },
      "source": [
        "### 6.1. Define a class\n",
        "\n",
        "一つの市町村のデータを表すクラス `City` を実装してください。\n",
        "このクラスは\n",
        "* `name`\n",
        "* `population`\n",
        "* `area`\n",
        "というメンバーをもち、これらの値をタプルとして受け取るコンストラクタを持っているとします。\n",
        "\n",
        "Define a class `City`, which has the following members:\n",
        "* `name`\n",
        "* `population`\n",
        "* `area`\n",
        "The `City` has to have a contstructor that work like followings:\n",
        "\n",
        "#### 実行例 (Example)\n",
        "\n",
        "```python\n",
        "name = 'Bunkyo'\n",
        "population = 233926\n",
        "area = 11.29\n",
        "\n",
        "city = City((name, population, area))\n",
        "\n",
        "assert(city.name == name)\n",
        "assert(city.area == area)\n",
        "assert(city.population == population)\n",
        "\n",
        "# You can create a list of `City` instances from `test_data` by using `map`.\n",
        "city_list = list(map(lambda data: City(data), test_data))\n",
        "```"
      ]
    },
    {
      "cell_type": "markdown",
      "metadata": {
        "id": "2PzZEXdA4UF9",
        "colab_type": "text"
      },
      "source": [
        "### 6.2. Define a method\n",
        "\n",
        "6.1.で定義した class `City` に人口密度を計算して返すメソッド `population_density()` を実装してください。\n",
        "\n",
        "Implement a method `population_density()` in `City`\n",
        "\n",
        "#### 実行例 (Example)\n",
        "\n",
        "```python\n",
        "assert(city.population_density() == city.population / city.area)\n",
        "```\n",
        "\n"
      ]
    },
    {
      "cell_type": "markdown",
      "metadata": {
        "id": "Me7GPbEf49ZL",
        "colab_type": "text"
      },
      "source": [
        "### 6.3. Get top `k` cities\n",
        "\n",
        "`City`のインスタンスのリストを受け取り、 人口密度が高い上位`k`個の都市の名前のリストを返す関数を実装してください。\n",
        "\n",
        "Implement a function that takes a list of `City` instances and returns a list of the top` k` cities with high population density.\n",
        "\n",
        "#### 実行例\n",
        "```python\n",
        "top2_cities = top_k_dense_city_names(city_list, 2)\n",
        "\n",
        "# Prints ['Bunkyo', 'Taito']\n",
        "print(top2_cities)\n",
        "```\n"
      ]
    },
    {
      "cell_type": "markdown",
      "metadata": {
        "id": "PSaq_yqex-Ah",
        "colab_type": "text"
      },
      "source": [
        "### 実装 (Implementation)"
      ]
    },
    {
      "cell_type": "code",
      "metadata": {
        "id": "hHiRXb3p3c11",
        "colab_type": "code",
        "outputId": "eb2f9e78-01cb-400f-f32d-c720ea9df697",
        "executionInfo": {
          "status": "ok",
          "timestamp": 1563669474057,
          "user_tz": -540,
          "elapsed": 709,
          "user": {
            "displayName": "Keiichi Watanabe",
            "photoUrl": "https://lh3.googleusercontent.com/a-/AAuE7mCXbo3WUEqGSdgGDLj87M6MHSXasbk_n2MMcaUs=s64",
            "userId": "01315856587179417490"
          }
        },
        "colab": {
          "height": 87
        }
      },
      "source": [
        "test_data = [('Chiyoda',   64894, 11.66),\n",
        "             ('Chuo',     164064, 10.21),\n",
        "             ('Minato',   259042, 20.37),\n",
        "             ('Shinjuku', 349844, 18.22),\n",
        "             ('Bunkyo',   233926, 11.29),\n",
        "             ('Taito',    207838, 10.11)]\n",
        "\n",
        "class City:\n",
        "  def __init__(self, data):\n",
        "    # Q 4.1.\n",
        "    # IF SOLUTION\n",
        "    self.name = data[0]\n",
        "    self.population = data[1]\n",
        "    self.area = data[2]\n",
        "    # ELSE SOLUTION\n",
        "    pass\n",
        "    # END SOLUTION\n",
        "\n",
        "  def population_density(self):\n",
        "    # Q 4.2.\n",
        "    # IF SOLUTION\n",
        "    return self.population / self.area\n",
        "    # ELSE SOLUTION\n",
        "    #pass\n",
        "    # END SOLUTION\n",
        "\n",
        "# Q4.3.\n",
        "def top_k_dense_city_names(city_list, k):\n",
        "  # IF SOLUTION\n",
        "  sorted_cities = list(sorted(city_list, key=lambda c: -c.population_density()))\n",
        "  return list(map(lambda c: c.name, sorted_cities[:k]))\n",
        "  # ELSE SOLUTION\n",
        "  #pass\n",
        "  # END SOLUTION"
      ],
      "execution_count": 0,
      "outputs": [
        {
          "output_type": "stream",
          "text": [
            "Q 4.1...\n",
            "Q 4.2...\n",
            "Q 4.3...\n",
            "Local tests passed!\n"
          ],
          "name": "stdout"
        }
      ]
    },
    {
      "cell_type": "code",
      "metadata": {
        "id": "vS5m_Sgv7ut_",
        "colab_type": "code",
        "colab": {}
      },
      "source": [
        "# Tests\n",
        "\n",
        "chiyoda_ku = City(test_data[0])\n",
        "print('Q 4.1...')\n",
        "assert(chiyoda_ku.name == 'Chiyoda')\n",
        "assert(chiyoda_ku.population == 64894)\n",
        "assert(chiyoda_ku.area == 11.66)\n",
        "\n",
        "print('Q 4.2...')\n",
        "assert(chiyoda_ku.population_density() == 64894 / 11.66)\n",
        "\n",
        "print('Q 4.3...')\n",
        "city_list = list(map(lambda data: City(data), test_data))\n",
        "dense_cities = top_k_dense_city_names(city_list, 2)\n",
        "assert(len(dense_cities) == 2)\n",
        "assert(dense_cities[0] == 'Bunkyo')\n",
        "assert(dense_cities[1] == 'Taito')\n",
        "\n",
        "print('Local tests passed!')"
      ],
      "execution_count": 0,
      "outputs": []
    }
  ]
}