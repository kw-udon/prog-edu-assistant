{
 "cells": [
  {
   "cell_type": "code",
   "execution_count": 1,
   "metadata": {},
   "outputs": [],
   "source": [
    "import io\n",
    "\n",
    "import numpy as np\n",
    "import pandas as pd\n",
    "import plotly_express as px"
   ]
  },
  {
   "cell_type": "code",
   "execution_count": 2,
   "metadata": {},
   "outputs": [],
   "source": [
    "# MASTER ONLY\n",
    "# imports %%solution, %%submission, %%template\n",
    "%load_ext prog_edu_assistant_tools.magics\n",
    "from prog_edu_assistant_tools.magics import report, autotest"
   ]
  },
  {
   "cell_type": "markdown",
   "metadata": {},
   "source": [
    "# Data frames 1 &mdash; What is a data frame\n",
    "\n",
    "```\n",
    "# ASSIGNMENT METADATA\n",
    "assignment_id: \"DataFrame1\"\n",
    "```\n",
    "\n",
    "A data frame is a table with the data. For examle, a standard spreadsheet with a data\n",
    "can be thought of as a data frame. Let's look at an example."
   ]
  },
  {
   "cell_type": "code",
   "execution_count": 3,
   "metadata": {},
   "outputs": [
    {
     "data": {
      "text/html": [
       "<div>\n",
       "<style scoped>\n",
       "    .dataframe tbody tr th:only-of-type {\n",
       "        vertical-align: middle;\n",
       "    }\n",
       "\n",
       "    .dataframe tbody tr th {\n",
       "        vertical-align: top;\n",
       "    }\n",
       "\n",
       "    .dataframe thead th {\n",
       "        text-align: right;\n",
       "    }\n",
       "</style>\n",
       "<table border=\"1\" class=\"dataframe\">\n",
       "  <thead>\n",
       "    <tr style=\"text-align: right;\">\n",
       "      <th></th>\n",
       "      <th>Time_h</th>\n",
       "      <th>Temperature_C</th>\n",
       "      <th>Precipitation_mm</th>\n",
       "      <th>WindDirection</th>\n",
       "      <th>WindSpeed_ms</th>\n",
       "      <th>SunshineDuration_h</th>\n",
       "      <th>Humidity</th>\n",
       "      <th>Pressure_hPa</th>\n",
       "    </tr>\n",
       "  </thead>\n",
       "  <tbody>\n",
       "    <tr>\n",
       "      <th>0</th>\n",
       "      <td>1</td>\n",
       "      <td>20.7</td>\n",
       "      <td>0</td>\n",
       "      <td>WNW</td>\n",
       "      <td>3.0</td>\n",
       "      <td>NaN</td>\n",
       "      <td>55</td>\n",
       "      <td>1000.8</td>\n",
       "    </tr>\n",
       "    <tr>\n",
       "      <th>1</th>\n",
       "      <td>2</td>\n",
       "      <td>20.0</td>\n",
       "      <td>0</td>\n",
       "      <td>WNW</td>\n",
       "      <td>2.9</td>\n",
       "      <td>NaN</td>\n",
       "      <td>58</td>\n",
       "      <td>1001.6</td>\n",
       "    </tr>\n",
       "    <tr>\n",
       "      <th>2</th>\n",
       "      <td>3</td>\n",
       "      <td>19.2</td>\n",
       "      <td>0</td>\n",
       "      <td>WNW</td>\n",
       "      <td>2.5</td>\n",
       "      <td>NaN</td>\n",
       "      <td>60</td>\n",
       "      <td>1002.7</td>\n",
       "    </tr>\n",
       "    <tr>\n",
       "      <th>3</th>\n",
       "      <td>4</td>\n",
       "      <td>19.7</td>\n",
       "      <td>0</td>\n",
       "      <td>NNW</td>\n",
       "      <td>2.0</td>\n",
       "      <td>0.0</td>\n",
       "      <td>58</td>\n",
       "      <td>1003.8</td>\n",
       "    </tr>\n",
       "    <tr>\n",
       "      <th>4</th>\n",
       "      <td>5</td>\n",
       "      <td>17.8</td>\n",
       "      <td>0</td>\n",
       "      <td>WNW</td>\n",
       "      <td>3.0</td>\n",
       "      <td>0.0</td>\n",
       "      <td>69</td>\n",
       "      <td>1005.0</td>\n",
       "    </tr>\n",
       "  </tbody>\n",
       "</table>\n",
       "</div>"
      ],
      "text/plain": [
       "   Time_h  Temperature_C  Precipitation_mm WindDirection  WindSpeed_ms  \\\n",
       "0       1           20.7                 0           WNW           3.0   \n",
       "1       2           20.0                 0           WNW           2.9   \n",
       "2       3           19.2                 0           WNW           2.5   \n",
       "3       4           19.7                 0           NNW           2.0   \n",
       "4       5           17.8                 0           WNW           3.0   \n",
       "\n",
       "   SunshineDuration_h  Humidity  Pressure_hPa  \n",
       "0                 NaN        55        1000.8  \n",
       "1                 NaN        58        1001.6  \n",
       "2                 NaN        60        1002.7  \n",
       "3                 0.0        58        1003.8  \n",
       "4                 0.0        69        1005.0  "
      ]
     },
     "execution_count": 3,
     "metadata": {},
     "output_type": "execute_result"
    }
   ],
   "source": [
    "df = pd.read_csv('data/tokyo-weather.csv')\n",
    "df.head()"
   ]
  },
  {
   "cell_type": "markdown",
   "metadata": {},
   "source": [
    "The data frame has columns, rows and the cells holding the values. The values in the cells can be numeric (including NaN to represent missing numbers), or they can be string values to represent text data or categorical data. The interpretation of the data frame comes from statistics.\n",
    "Each column in the data frame corresponds to a variable, that is something that either\n",
    "can be measured, or can be controlled by us. Each row corresponds to one observation, with\n",
    "values in different columns logically being related. For example, in the table abouve,\n",
    "one row coresonds to the weather data for 1 hour.\n",
    "\n",
    "In Python Pandas library, the column types can be inspected using dtypes property. Note that numeric types\n",
    "are further subdivided into integer (`int64`) and floating point (`float64`) types. The string data is represented with dtype `object`."
   ]
  },
  {
   "cell_type": "markdown",
   "metadata": {},
   "source": [
    "## What is a CSV format\n",
    "\n",
    "There are many ways to represent the tabular data, spreadsheets being the most popular one among general computer users. However, for the programmatic access, a simpler format may be even more useful.\n",
    "It is easy to generate, even by typing manually, and relatively easy to parse. CSV stands for comma-separated values, so it uses a comma `,` to separate the values in a single row.\n",
    "\n",
    "CSV format has several detailed definitions which may disagree in small details, but it is possible to stick\n",
    "to a conservative set of rules serving as a minimum common denominator and being highly interoperable. Here are the conservative rules:\n",
    "\n",
    "* Every line has the same number of fields separated by commas. In CSV speak, each line is called \"a record\".\n",
    "* The values of fields should not contain commas or newline characters. In a rare event that comma needs to be a part of the value, the field value should be enclosed in double quotes. (If the contents of the field needs to contain double quote character itself, it should be doubled inside, but this quickly gets dangerous in a sense that the details of escaping rules may differ between different programs working with CSV files).\n",
    "* The first line in the file optionally may be a header, i.e. contain the human-readable column names.\n",
    "\n",
    "Typically the CSV format is used in files with `.csv` suffix, but Python language makes it easy enough to parse CSV defined in string literals. This in fact may be the easiest way to define small data frames in Jupyter notebooks. Here is an example. "
   ]
  },
  {
   "cell_type": "code",
   "execution_count": 4,
   "metadata": {},
   "outputs": [
    {
     "data": {
      "text/html": [
       "<div>\n",
       "<style scoped>\n",
       "    .dataframe tbody tr th:only-of-type {\n",
       "        vertical-align: middle;\n",
       "    }\n",
       "\n",
       "    .dataframe tbody tr th {\n",
       "        vertical-align: top;\n",
       "    }\n",
       "\n",
       "    .dataframe thead th {\n",
       "        text-align: right;\n",
       "    }\n",
       "</style>\n",
       "<table border=\"1\" class=\"dataframe\">\n",
       "  <thead>\n",
       "    <tr style=\"text-align: right;\">\n",
       "      <th></th>\n",
       "      <th>x</th>\n",
       "      <th>y</th>\n",
       "    </tr>\n",
       "  </thead>\n",
       "  <tbody>\n",
       "    <tr>\n",
       "      <th>0</th>\n",
       "      <td>1</td>\n",
       "      <td>2</td>\n",
       "    </tr>\n",
       "    <tr>\n",
       "      <th>1</th>\n",
       "      <td>3</td>\n",
       "      <td>4</td>\n",
       "    </tr>\n",
       "  </tbody>\n",
       "</table>\n",
       "</div>"
      ],
      "text/plain": [
       "   x  y\n",
       "0  1  2\n",
       "1  3  4"
      ]
     },
     "execution_count": 4,
     "metadata": {},
     "output_type": "execute_result"
    }
   ],
   "source": [
    "df = pd.read_csv(io.StringIO(\"\"\"\n",
    "x,y\n",
    "1,2\n",
    "3,4\n",
    "\"\"\"))\n",
    "df"
   ]
  },
  {
   "cell_type": "markdown",
   "metadata": {},
   "source": [
    "In case you are curious, `pd.read_csv` accepts file-like objects to read the data from, and io.StringIO is way to create a file-like object from a string literal. Triple quotes `\"\"\"` are a Python syntax that allows to define multi-line string literal.\n",
    "\n",
    "Here is another, more traditional way to create a CSV file from the Jupyter notebook and then load it as a regular file:"
   ]
  },
  {
   "cell_type": "code",
   "execution_count": 5,
   "metadata": {},
   "outputs": [
    {
     "name": "stdout",
     "output_type": "stream",
     "text": [
      "Overwriting test.csv\n"
     ]
    }
   ],
   "source": [
    "%%writefile test.csv\n",
    "x,y\n",
    "1,2\n",
    "3,4"
   ]
  },
  {
   "cell_type": "code",
   "execution_count": 6,
   "metadata": {},
   "outputs": [
    {
     "data": {
      "text/html": [
       "<div>\n",
       "<style scoped>\n",
       "    .dataframe tbody tr th:only-of-type {\n",
       "        vertical-align: middle;\n",
       "    }\n",
       "\n",
       "    .dataframe tbody tr th {\n",
       "        vertical-align: top;\n",
       "    }\n",
       "\n",
       "    .dataframe thead th {\n",
       "        text-align: right;\n",
       "    }\n",
       "</style>\n",
       "<table border=\"1\" class=\"dataframe\">\n",
       "  <thead>\n",
       "    <tr style=\"text-align: right;\">\n",
       "      <th></th>\n",
       "      <th>x</th>\n",
       "      <th>y</th>\n",
       "    </tr>\n",
       "  </thead>\n",
       "  <tbody>\n",
       "    <tr>\n",
       "      <th>0</th>\n",
       "      <td>1</td>\n",
       "      <td>2</td>\n",
       "    </tr>\n",
       "    <tr>\n",
       "      <th>1</th>\n",
       "      <td>3</td>\n",
       "      <td>4</td>\n",
       "    </tr>\n",
       "  </tbody>\n",
       "</table>\n",
       "</div>"
      ],
      "text/plain": [
       "   x  y\n",
       "0  1  2\n",
       "1  3  4"
      ]
     },
     "execution_count": 6,
     "metadata": {},
     "output_type": "execute_result"
    }
   ],
   "source": [
    "test_df = pd.read_csv('test.csv')\n",
    "test_df"
   ]
  },
  {
   "cell_type": "markdown",
   "metadata": {},
   "source": [
    "## Tidy data frames: How to think about data frame structure\n",
    "\n",
    "There are many possible ways how one can put the same data into the tabular format.\n",
    "\n",
    "     TODO(salikh): Add examples\n",
    "     \n",
    "One way to think of the data that has been inspired by statistics, is an experiment report.\n",
    "It is called _tidy_ data and satisfies the following conditions:\n",
    "\n",
    "* Each kind of \"experiment\" is kept in a separate table (data frame).\n",
    "* In a table, one row is \"one observation\", and one column is one variable.\n",
    "* The values are in the fields only, i.e. the values should never occur in column headers. The variable names should be in column header only, i.e. variable names should never occur in field values.\n",
    "* Variable (columns) can be subdivided into _controlled_ (how we set up an experiment), and _measured_ (the values that we are measuring). This way of thinking explains what do we mean by each row corresponding to one observation.\n",
    "\n",
    "All other possible formats of data that are not tidy are called _messy_ by contrast.\n",
    "\n",
    "There is some connection of tidy data frames to 3rd normal form in the database theory, but data frames tend to be more flexible and malleable. It is also worth noting, that depending on the purpose of data analysis and required computations, the definition of \"one observation\" may be different. For example, let's assume that we have the data about flight arrival and departure times. If we want to study flight lengths, then it is convenient to have departure and arrival as independent variables in separate columns, which makes it really easy to compute flight length. If on the other hand we want to study the distribution of how the air stripe is used, then depatures and arrivals are just timestamps of events, and arrival/departure is better to be thought of an additional categorical variable.\n",
    "\n",
    "\n",
    "There are two benefits to tidy data frames\n",
    "\n",
    "* Bringing all data into tidy frame format makes your life easier as you do not need\n",
    "  to remember and handle various data format pecularities. Data handing becomes much more\n",
    "  uniform.\n",
    "  \n",
    "* There is an existing set of tools that work best when the data is in tidy format. The most\n",
    "  important of those tools is a plotting library used for data visualiation.\n",
    "  We will see some examples later in this unit.\n"
   ]
  },
  {
   "cell_type": "markdown",
   "metadata": {},
   "source": [
    "# Exercise: Create data frame from textual description\n",
    "\n",
    "In this exercise, you task is to create a tidy data frame based on the textual description\n",
    "provided below. An person (Aliсe) wants to do a data analysis on her coffee drinking habits.\n",
    "\n",
    "Here is the Alices description of her week:\n",
    "\n",
    "* Alice goes to office every weekday\n",
    "* Alice drops by the coffee shop before work every day except Wednesdays\n",
    "* In the morning, Alice buys an S-size coffee cup\n",
    "* Alice goes to gym every Tuesday and Thursday.\n",
    "* After gym Alice goes to the coffee shop and has a L-size coffee.\n",
    "* When not going to gym, Alice goes straight home and goes to sleep without coffee.\n",
    "* On weekends, Alice does not go to coffee shops, but brews coffee at home, once on Saturday and once on\n",
    "  Sunday. Her coffee maker makes 500 ml of coffee.\n",
    "* S-size cup is 200 ml. L-size cut is 300 ml.\n",
    "  \n",
    "Your task: create a data frame named `coffee` that would describe how much coffee Alice drinks on each day of the week,\n",
    "and add additional columns describing the day:\n",
    "\n",
    "* `\"work\"`: boolean (True/False) describes whether the day is workday (true) or weekends (false).\n",
    "* `\"gym\"`: boolean (True/False) describes whether Alice goes to the gym on that day (true - goes to gym, false - does not go to gym).\n",
    "\n",
    "```\n",
    "# EXERCISE METADATA\n",
    "exercise_id: \"CreateDataFrameFromText\"\n",
    "```"
   ]
  },
  {
   "cell_type": "code",
   "execution_count": 7,
   "metadata": {},
   "outputs": [],
   "source": [
    "%%solution\n",
    "coffee = pd.read_csv(io.StringIO(\"\"\"day,coffee_ml,work,gym\n",
    "# BEGIN SOLUTION\n",
    "Monday,200,true,false\n",
    "Tuesday,500,true,true\n",
    "Wednesday,0,true,false\n",
    "Thursday,500,true,true\n",
    "Friday,200,true,false\n",
    "Saturday,500,false,false\n",
    "Sunday,500,false,false\n",
    "# END SOLUTION\n",
    "\"\"\"))"
   ]
  },
  {
   "cell_type": "code",
   "execution_count": 8,
   "metadata": {},
   "outputs": [
    {
     "data": {
      "text/html": [
       "<div>\n",
       "<style scoped>\n",
       "    .dataframe tbody tr th:only-of-type {\n",
       "        vertical-align: middle;\n",
       "    }\n",
       "\n",
       "    .dataframe tbody tr th {\n",
       "        vertical-align: top;\n",
       "    }\n",
       "\n",
       "    .dataframe thead th {\n",
       "        text-align: right;\n",
       "    }\n",
       "</style>\n",
       "<table border=\"1\" class=\"dataframe\">\n",
       "  <thead>\n",
       "    <tr style=\"text-align: right;\">\n",
       "      <th></th>\n",
       "      <th>day</th>\n",
       "      <th>coffee_ml</th>\n",
       "      <th>work</th>\n",
       "      <th>gym</th>\n",
       "    </tr>\n",
       "  </thead>\n",
       "  <tbody>\n",
       "    <tr>\n",
       "      <th>0</th>\n",
       "      <td>Monday</td>\n",
       "      <td>200</td>\n",
       "      <td>True</td>\n",
       "      <td>False</td>\n",
       "    </tr>\n",
       "    <tr>\n",
       "      <th>1</th>\n",
       "      <td>Tuesday</td>\n",
       "      <td>500</td>\n",
       "      <td>True</td>\n",
       "      <td>True</td>\n",
       "    </tr>\n",
       "    <tr>\n",
       "      <th>2</th>\n",
       "      <td>Wednesday</td>\n",
       "      <td>0</td>\n",
       "      <td>True</td>\n",
       "      <td>False</td>\n",
       "    </tr>\n",
       "    <tr>\n",
       "      <th>3</th>\n",
       "      <td>Thursday</td>\n",
       "      <td>500</td>\n",
       "      <td>True</td>\n",
       "      <td>True</td>\n",
       "    </tr>\n",
       "    <tr>\n",
       "      <th>4</th>\n",
       "      <td>Friday</td>\n",
       "      <td>200</td>\n",
       "      <td>True</td>\n",
       "      <td>False</td>\n",
       "    </tr>\n",
       "    <tr>\n",
       "      <th>5</th>\n",
       "      <td>Saturday</td>\n",
       "      <td>500</td>\n",
       "      <td>False</td>\n",
       "      <td>False</td>\n",
       "    </tr>\n",
       "    <tr>\n",
       "      <th>6</th>\n",
       "      <td>Sunday</td>\n",
       "      <td>500</td>\n",
       "      <td>False</td>\n",
       "      <td>False</td>\n",
       "    </tr>\n",
       "  </tbody>\n",
       "</table>\n",
       "</div>"
      ],
      "text/plain": [
       "         day  coffee_ml   work    gym\n",
       "0     Monday        200   True  False\n",
       "1    Tuesday        500   True   True\n",
       "2  Wednesday          0   True  False\n",
       "3   Thursday        500   True   True\n",
       "4     Friday        200   True  False\n",
       "5   Saturday        500  False  False\n",
       "6     Sunday        500  False  False"
      ]
     },
     "execution_count": 8,
     "metadata": {},
     "output_type": "execute_result"
    }
   ],
   "source": [
    "# Inspect the resulting data frame\n",
    "coffee"
   ]
  },
  {
   "cell_type": "code",
   "execution_count": 9,
   "metadata": {},
   "outputs": [],
   "source": [
    "# TEST This is the test shown to students.\n",
    "# Test the data frame.\n",
    "assert len(coffee) == 7, \"Your dataframe should have 7 rows for each day of the week\"\n",
    "assert 'day' in coffee, \"Your dataframe should have a 'day' column\"\n",
    "assert 'coffee_ml' in coffee, \"Your dataframe should have a 'coffee_ml' column\"\n",
    "assert 'work' in coffee, \"Your dataframe should have a 'work' column\"\n",
    "assert 'gym' in coffee, \"Your dataframe should have a 'gym' column\""
   ]
  },
  {
   "cell_type": "code",
   "execution_count": 10,
   "metadata": {},
   "outputs": [],
   "source": [
    "#%%inlinetest This test is not shown to student, but used by the autograder.\n",
    "\n",
    "assert 'coffee' in locals(), \"Did you define the data frame named 'coffee' in the solution cell?\"\n",
    "assert coffee.__class__ == pd.core.frame.DataFrame, \"Did you define a data frame? There was a %s instead\" % coffee.__class__\n",
    "assert len(coffee) == 7, \"The data frame should have 7 rows\"\n",
    "assert str(np.sort(np.unique(coffee['coffee_ml'])).astype(list)) == '[0 200 500]', \"The daily coffee_ml amount should only have values of 0, 200, and 500\"\n",
    "assert np.sum(coffee['coffee_ml']) == 2400, \"The coffee amount is not correct, total should be 2400 ml per week, but you data frame has %d\" % np.sum(coffee['coffee_ml']) \n",
    "assert np.sum(coffee['work'].astype(int)) == 5, \"There should be 5 work days in a week\"\n",
    "assert np.sum(coffee['gym'].astype(int)) == 2, \"There should be 2 gym days in a week\"\n",
    "assert np.all(coffee.loc[coffee['gym']]['coffee_ml'] == 500), \"coffee_ml should be 500 ml on gym days\"\n",
    "assert np.all(coffee.loc[np.logical_not(coffee['work'])]['coffee_ml'] == 500), \"coffee_ml should be 500 on weekends\"\n",
    "assert np.sum(coffee.loc[np.logical_and(coffee['work'], np.logical_not(coffee['gym']))]['coffee_ml']) == 400, \"coffee_ml should be 200 on Monday and Friday, and 0 on Wednesday\""
   ]
  }
 ],
 "metadata": {
  "kernelspec": {
   "display_name": "Python 3",
   "language": "python",
   "name": "python3"
  },
  "language_info": {
   "codemirror_mode": {
    "name": "ipython",
    "version": 3
   },
   "file_extension": ".py",
   "mimetype": "text/x-python",
   "name": "python",
   "nbconvert_exporter": "python",
   "pygments_lexer": "ipython3",
   "version": "3.6.5"
  }
 },
 "nbformat": 4,
 "nbformat_minor": 2
}
