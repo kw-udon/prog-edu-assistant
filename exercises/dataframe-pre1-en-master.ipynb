{
 "cells": [
  {
   "cell_type": "code",
   "execution_count": 1,
   "metadata": {},
   "outputs": [],
   "source": [
    "import io\n",
    "\n",
    "import numpy as np\n",
    "import pandas as pd\n",
    "import plotly_express as px"
   ]
  },
  {
   "cell_type": "code",
   "execution_count": 2,
   "metadata": {},
   "outputs": [],
   "source": [
    "# MASTER ONLY\n",
    "import re\n",
    "# imports %%solution, %%submission, %%template, %%inlinetest, %%studenttest, %autotest\n",
    "%load_ext prog_edu_assistant_tools.magics\n",
    "from prog_edu_assistant_tools.magics import report, autotest"
   ]
  },
  {
   "cell_type": "markdown",
   "metadata": {},
   "source": [
    "**lang:en**\n",
    "In this exercise, we will consider what is a data frame and how to represent\n",
    "the data in a \"tidy\" way. We will use the `pandas` data frame library."
   ]
  },
  {
   "cell_type": "markdown",
   "metadata": {},
   "source": [
    "**lang:ja**\n",
    "この講義では表のようなデータのためのデータフレームの保存方法を紹介し、**キレイな**データ表現を説明します。\n",
    "`pandas`ライブラリーを使用します。"
   ]
  },
  {
   "cell_type": "markdown",
   "metadata": {},
   "source": [
    "# Data frames 1. データフレームとは (What is a data frame)\n",
    "```\n",
    "# ASSIGNMENT METADATA\n",
    "assignment_id: \"DataFrame1\"\n",
    "```"
   ]
  },
  {
   "cell_type": "markdown",
   "metadata": {},
   "source": [
    "**lang:en** A data frame is a table with the data. For examle, a standard spreadsheet with a data\n",
    "can be thought of as a data frame. Let's look at an example."
   ]
  },
  {
   "cell_type": "markdown",
   "metadata": {},
   "source": [
    "**lang:ja** データは表の形すれば、データフレーム扱いが可能になります。たとえば、スプレッドシートのデータはデータフレームとして考えられます。\n",
    "こちらの例を見ましょう。"
   ]
  },
  {
   "cell_type": "code",
   "execution_count": 3,
   "metadata": {},
   "outputs": [
    {
     "data": {
      "text/html": [
       "<div>\n",
       "<style scoped>\n",
       "    .dataframe tbody tr th:only-of-type {\n",
       "        vertical-align: middle;\n",
       "    }\n",
       "\n",
       "    .dataframe tbody tr th {\n",
       "        vertical-align: top;\n",
       "    }\n",
       "\n",
       "    .dataframe thead th {\n",
       "        text-align: right;\n",
       "    }\n",
       "</style>\n",
       "<table border=\"1\" class=\"dataframe\">\n",
       "  <thead>\n",
       "    <tr style=\"text-align: right;\">\n",
       "      <th></th>\n",
       "      <th>Time_h</th>\n",
       "      <th>Temperature_C</th>\n",
       "      <th>Precipitation_mm</th>\n",
       "      <th>WindDirection</th>\n",
       "      <th>WindSpeed_ms</th>\n",
       "      <th>SunshineDuration_h</th>\n",
       "      <th>Humidity</th>\n",
       "      <th>Pressure_hPa</th>\n",
       "    </tr>\n",
       "  </thead>\n",
       "  <tbody>\n",
       "    <tr>\n",
       "      <th>0</th>\n",
       "      <td>1</td>\n",
       "      <td>20.7</td>\n",
       "      <td>0</td>\n",
       "      <td>WNW</td>\n",
       "      <td>3.0</td>\n",
       "      <td>NaN</td>\n",
       "      <td>55</td>\n",
       "      <td>1000.8</td>\n",
       "    </tr>\n",
       "    <tr>\n",
       "      <th>1</th>\n",
       "      <td>2</td>\n",
       "      <td>20.0</td>\n",
       "      <td>0</td>\n",
       "      <td>WNW</td>\n",
       "      <td>2.9</td>\n",
       "      <td>NaN</td>\n",
       "      <td>58</td>\n",
       "      <td>1001.6</td>\n",
       "    </tr>\n",
       "    <tr>\n",
       "      <th>2</th>\n",
       "      <td>3</td>\n",
       "      <td>19.2</td>\n",
       "      <td>0</td>\n",
       "      <td>WNW</td>\n",
       "      <td>2.5</td>\n",
       "      <td>NaN</td>\n",
       "      <td>60</td>\n",
       "      <td>1002.7</td>\n",
       "    </tr>\n",
       "    <tr>\n",
       "      <th>3</th>\n",
       "      <td>4</td>\n",
       "      <td>19.7</td>\n",
       "      <td>0</td>\n",
       "      <td>NNW</td>\n",
       "      <td>2.0</td>\n",
       "      <td>0.0</td>\n",
       "      <td>58</td>\n",
       "      <td>1003.8</td>\n",
       "    </tr>\n",
       "    <tr>\n",
       "      <th>4</th>\n",
       "      <td>5</td>\n",
       "      <td>17.8</td>\n",
       "      <td>0</td>\n",
       "      <td>WNW</td>\n",
       "      <td>3.0</td>\n",
       "      <td>0.0</td>\n",
       "      <td>69</td>\n",
       "      <td>1005.0</td>\n",
       "    </tr>\n",
       "  </tbody>\n",
       "</table>\n",
       "</div>"
      ],
      "text/plain": [
       "   Time_h  Temperature_C  Precipitation_mm WindDirection  WindSpeed_ms  \\\n",
       "0       1           20.7                 0           WNW           3.0   \n",
       "1       2           20.0                 0           WNW           2.9   \n",
       "2       3           19.2                 0           WNW           2.5   \n",
       "3       4           19.7                 0           NNW           2.0   \n",
       "4       5           17.8                 0           WNW           3.0   \n",
       "\n",
       "   SunshineDuration_h  Humidity  Pressure_hPa  \n",
       "0                 NaN        55        1000.8  \n",
       "1                 NaN        58        1001.6  \n",
       "2                 NaN        60        1002.7  \n",
       "3                 0.0        58        1003.8  \n",
       "4                 0.0        69        1005.0  "
      ]
     },
     "execution_count": 3,
     "metadata": {},
     "output_type": "execute_result"
    }
   ],
   "source": [
    "df = pd.read_csv('data/tokyo-weather.csv')\n",
    "df.head()"
   ]
  },
  {
   "cell_type": "markdown",
   "metadata": {},
   "source": [
    "**lang:en** Here, the `read_csv` call reads the data from a CSV file into a data frame. \n",
    "\n",
    "```python\n",
    "# Read the CSV file into a new data frame.\n",
    "df = read_csv('data/tokyo-weather.csv')\n",
    "```\n",
    "\n",
    "And the `df.head()` call displays the first few lines of the data frame.\n",
    "\n",
    "```python\n",
    "# Display the first 5 rows of the data frame.\n",
    "df.head()\n",
    "```"
   ]
  },
  {
   "cell_type": "markdown",
   "metadata": {},
   "source": [
    "**lang:ja** `read_csv`はCSV形式のファイルからデータを読み込んでいます。\n",
    "\n",
    "```python\n",
    "# CSV形式のファイルからデータを読み込みます。\n",
    "df = read_csv('data/tokyo-weather.csv')\n",
    "```\n",
    "\n",
    "`df.head()`はデータの最初の５つの行を表示します。\n",
    "\n",
    "```python\n",
    "# 最初の５つの行を表示します。\n",
    "df.head()\n",
    "```"
   ]
  },
  {
   "cell_type": "markdown",
   "metadata": {},
   "source": [
    "**lang:en** The data frame has columns, rows and the cells holding the values. The values in the cells can be numeric (including NaN to represent missing numbers), or they can be string values to represent text data or categorical data. \n",
    "The interpretation of the data frame comes from statistics.\n",
    "Each column in the data frame corresponds to a variable, that is something that either\n",
    "can be measured, or can be controlled by us. Each row corresponds to one observation, with\n",
    "values in different columns logically being related. For example, in the table abouve,\n",
    "one row coresonds to the weather data for 1 hour.\n",
    "\n",
    "In Python Pandas library, the column types can be inspected using dtypes property. Note that numeric types\n",
    "are further subdivided into integer (`int64`) and floating point (`float64`) types. The string data is represented with dtype `object`."
   ]
  },
  {
   "cell_type": "markdown",
   "metadata": {},
   "source": [
    "**lang:ja** データフレームは列や行があります。各列には数値または文字に保存できます。数値の列の場合は、値が不明や欠損値は`NaN`として表現できます。\n",
    "文字や因子は文字列として保存できます。\n",
    "\n",
    "データフルームの考え方は統計分析に従来しますが、統計分析以外にもその考え方が役に立ちます。\n",
    "各行は観測値を表し、各列は変数を表します。変数とは、直接に設定できる、または観測して図るものとします。\n",
    "一つの観測値は同時に図るものなので、一つの行に入っている値は一つのものを記述します。\n",
    "以上の例の表では、一つの行は一時間の観測を表しています。\n",
    "\n",
    "Pythonの`pandas`のライブラリーでは、列の型が分かるために`dtypes`というプロパティを使用できます。\n",
    "数値型は更に整数（`int64`)や浮動小数点(`float64`)の型に分けています。文字の場合はオブジェクトの型（`object`)になります。\n",
    "\n",
    "**TODO(salikh): Include an illustration of a data frame, like in the link below**.\n",
    "\n",
    "データフレームについてもっと詳しくこちらにご覧ください： http://cse.naro.affrc.go.jp/takezawa/r-tips/r/39.html (外部リンク)"
   ]
  },
  {
   "cell_type": "code",
   "execution_count": 4,
   "metadata": {},
   "outputs": [
    {
     "data": {
      "text/plain": [
       "Time_h                  int64\n",
       "Temperature_C         float64\n",
       "Precipitation_mm        int64\n",
       "WindDirection          object\n",
       "WindSpeed_ms          float64\n",
       "SunshineDuration_h    float64\n",
       "Humidity                int64\n",
       "Pressure_hPa          float64\n",
       "dtype: object"
      ]
     },
     "execution_count": 4,
     "metadata": {},
     "output_type": "execute_result"
    }
   ],
   "source": [
    "df.dtypes"
   ]
  },
  {
   "cell_type": "markdown",
   "metadata": {},
   "source": [
    "## What is a CSV format\n",
    "**lang:en**\n",
    "\n",
    "There are many ways to represent the tabular data, spreadsheets being the most popular one among general computer users. However, for the programmatic access, a simpler format may be even more useful.\n",
    "It is easy to generate, even by typing manually, and relatively easy to parse. CSV stands for comma-separated values, so it uses a comma `,` to separate the values in a single row.\n",
    "\n",
    "Here are the rules of the CSV data format:\n",
    "\n",
    "* Every line has the same number of fields separated by commas. In CSV speak, each line is called \"a record\".\n",
    "* The values of fields should not contain commas or newline characters. In the event that comma needs to be a part of the value, the field value should be enclosed in double quotes.\n",
    "  * If the contents of the field needs to contain double quote character itself, it should be doubled inside.\n",
    "* The first line in the file may be a header, i.e. contain the human-readable column names. This is not required, but having a header line makes the data more self-describing, and makes the code to handle them more robust.\n",
    "\n",
    "Typically the CSV format is used in files with `.csv` suffix, but Python language makes it easy enough to parse CSV defined directly in the source code in string literals. This is one of the easiest way to define small data frames in Jupyter notebooks. Here is an example. "
   ]
  },
  {
   "cell_type": "markdown",
   "metadata": {},
   "source": [
    "## CVS形式とは (What is CSV format)\n",
    "**lang:ja**\n",
    "\n",
    "表のようなデータを表現できる方法複数がありますが、プログラムでデータを扱うのために特に使いやすいのはCSV形式です。\n",
    "CSV形式はプログラムによって生成または手動の生成両方とも簡単で、読み込みも簡単にできます。\n",
    "CSVはComma-separated valuesの略で、カンマ区切りという意味です。\n",
    "\n",
    "CSV形式のルールは以下です。\n",
    "\n",
    "* 各行はカンマで区切っているいくつかの値から成り立っています。一つの値はフィルドといいます。\n",
    "* 各行はフィルドの数は同じです。　一行はレコードといいます。\n",
    "* 値のなかではカンマ、開業、引用符が原則として入りません\n",
    "* もしカンマ、開業を入れなければ行けない場合、引用符の中に入れます： `\"a,b\"`\n",
    "  * 引用符を入れなければ行けない場合は、引用符の中に二重しなければなりません： `\"a\"\"b\"`\n",
    "* ファイルの最初の一行はヘッダ業を入れることができます。必須ではありませんが、できればあった方がいいです。\n",
    "\n",
    "普段はCSV形式`.csv`のファイルとして保存しますが、Pythonでは直接のプログラムへの組み込みも可能です。\n",
    "以下の例をご覧ください。"
   ]
  },
  {
   "cell_type": "code",
   "execution_count": 5,
   "metadata": {},
   "outputs": [
    {
     "data": {
      "text/html": [
       "<div>\n",
       "<style scoped>\n",
       "    .dataframe tbody tr th:only-of-type {\n",
       "        vertical-align: middle;\n",
       "    }\n",
       "\n",
       "    .dataframe tbody tr th {\n",
       "        vertical-align: top;\n",
       "    }\n",
       "\n",
       "    .dataframe thead th {\n",
       "        text-align: right;\n",
       "    }\n",
       "</style>\n",
       "<table border=\"1\" class=\"dataframe\">\n",
       "  <thead>\n",
       "    <tr style=\"text-align: right;\">\n",
       "      <th></th>\n",
       "      <th>x</th>\n",
       "      <th>y</th>\n",
       "    </tr>\n",
       "  </thead>\n",
       "  <tbody>\n",
       "    <tr>\n",
       "      <th>0</th>\n",
       "      <td>1</td>\n",
       "      <td>2</td>\n",
       "    </tr>\n",
       "    <tr>\n",
       "      <th>1</th>\n",
       "      <td>3</td>\n",
       "      <td>4</td>\n",
       "    </tr>\n",
       "  </tbody>\n",
       "</table>\n",
       "</div>"
      ],
      "text/plain": [
       "   x  y\n",
       "0  1  2\n",
       "1  3  4"
      ]
     },
     "execution_count": 5,
     "metadata": {},
     "output_type": "execute_result"
    }
   ],
   "source": [
    "df2 = pd.read_csv(io.StringIO(\"\"\"\n",
    "x,y\n",
    "1,2\n",
    "3,4\n",
    "\"\"\"))\n",
    "df2"
   ]
  },
  {
   "cell_type": "markdown",
   "metadata": {},
   "source": [
    "**lang:en** In case you are curious, `pd.read_csv` accepts file-like objects to read the data from, and io.StringIO is way to create a file-like object from a string literal. Triple quotes `\"\"\"` are a Python syntax that allows to define multi-line string literal."
   ]
  },
  {
   "cell_type": "markdown",
   "metadata": {},
   "source": [
    "**lang:ja** 詳しく見ると、`pd.read_csv`はファイルのようなものを受け取ります、そして`io.StringIO`は文字からファイルのようなオブジェクトを作っています。"
   ]
  },
  {
   "cell_type": "markdown",
   "metadata": {},
   "source": [
    "## Tidy data frames: How to think about data frame structure\n",
    "**lang:en**\n",
    "\n",
    "There are many possible ways how one can put the same data into the tabular format.\n",
    "\n",
    "     TODO(salikh): Add examples\n",
    "     \n",
    "One particularly useful way to think of the data has been inspired by statistics and looks like an experiment report.\n",
    "It is called _tidy_ data and satisfies the following conditions:\n",
    "\n",
    "* Each kind of \"experiment\" is kept in a separate data frame.\n",
    "* In a table, one row is \"one observation\", and one column is one variable.\n",
    "* The values are in the fields only, i.e. the values should never occur in column headers. The variable names should be in column header only, i.e. variable names should never occur in field values.\n",
    "* Variable (columns) can be subdivided into _controlled_ (how we set up an experiment), and _measured_ (the values that we are measuring). This way of thinking explains what do we mean by each row corresponding to one observation.\n",
    "\n",
    "All other possible formats of data that are not tidy are called _messy_ by contrast.\n",
    "\n",
    "There is some connection of tidy data frames to 3rd normal form in the database theory, but data frames tend to be more flexible and malleable. It is also worth noting, that depending on the purpose of data analysis and required computations, the definition of \"one observation\" may be different. For example, let's assume that we have the data about flight arrival and departure times. If we want to study flight durations, then it is convenient to have departure and arrival as independent variables in separate columns, which makes it really easy to compute flight duration. If on the other hand we want to study how the air stripe at an airport is used, then depatures and arrivals are just timestamps of events related to the airstripe use, and arrival/departure is better to be thought as an additional categorical variable.\n",
    "\n",
    "\n",
    "There are two benefits to tidy data frames\n",
    "\n",
    "* Bringing all data into tidy frame format makes your life easier as you do not need\n",
    "  to remember and handle various data format pecularities. Data handing becomes\n",
    "  uniform.\n",
    "  \n",
    "* There is an existing set of tools that work best when the data is in tidy format. The most\n",
    "  important of those tools is a plotting library used for data visualiation.\n",
    "  We will see some examples later in this unit.\n",
    "\n",
    "See the paper https://vita.had.co.nz/papers/tidy-data.pdf for more details about tidy data frames."
   ]
  },
  {
   "cell_type": "markdown",
   "metadata": {},
   "source": [
    "## キレイなデータフレーム (Tidy data frames)\n",
    "**lang:ja**\n",
    "\n",
    "データフレームにデータを入れる方法はたくさんありますが、その中に一つは特に役に立ちます。それは「キレイなデータフレーム」といい、こちらの条件に当てはまるデータフレームです。\n",
    "\n",
    "* 一つのデータフレームに入るデータは一つの観測値として考えられ、変数は全て関連します。\n",
    "* 一つの列は変数になります。列のヘッダは変数名です。変数の値はヘッダに絶対に入りません。\n",
    "* ーつの行は一つの観測として考えられます。つまり、関係しないデータは一つの行に入りません。\n",
    "\n",
    "キレイなデータフレームの条件に当てはまらないデータフレームは**汚い**といいます。\n",
    "\n",
    "データ解析の目的によって観測値の定義は異なる場合もあります。たとえば、飛行機の出発時間や到着時間は\n",
    "別々の変数でしょうか。　飛行時間を解析のであれば、別々の変数の扱いは便利です。なぜかというと、観測値ごとに\n",
    "簡単に飛行時間を計算できるからです。　もし空港の飛行場の使い方の解析の場合は、離陸も着陸も飛行場を使う\n",
    "機会なので、同じデータであっても、一つの変数にした方が解析しやすいのです。\n",
    "\n",
    "詳しくキレイなデータフレームについてこちらの論文ご参考ください： https://vita.had.co.nz/papers/tidy-data.pdf （英語）"
   ]
  },
  {
   "cell_type": "markdown",
   "metadata": {},
   "source": [
    "# 予習課題: 記述からデータフレームを生成 (Create data frame from textual description)\n",
    "```\n",
    "# EXERCISE METADATA\n",
    "exercise_id: \"CreateDataFrameFromText\"\n",
    "```"
   ]
  },
  {
   "cell_type": "markdown",
   "metadata": {},
   "source": [
    "**lang:en**\n",
    "\n",
    "In this exercise, you task is to create a tidy data frame based on the textual description\n",
    "provided below. An person (Aliсe) wants to do a data analysis on her coffee drinking habits.\n",
    "\n",
    "Here is the Alices description of her week:\n",
    "\n",
    "* Alice goes to office every weekday\n",
    "* Alice drops by the coffee shop before work every day except Wednesdays\n",
    "* In the morning, Alice buys an S-size coffee cup\n",
    "* Alice goes to gym every Tuesday and Thursday.\n",
    "* After gym Alice goes to the coffee shop and has a L-size coffee.\n",
    "* When not going to gym, Alice goes straight home and goes to sleep without coffee.\n",
    "* On weekends, Alice does not go to coffee shops, but brews coffee at home, once on Saturday and once on\n",
    "  Sunday. Her coffee maker makes 500 ml of coffee.\n",
    "* S-size cup is 200 ml. L-size cup is 300 ml.\n",
    "  \n",
    "Your task: create a data frame named `coffee` that would describe how much coffee Alice drinks on each day of the week, with the following columns describing the day:\n",
    "\n",
    "* `day`: integer, describes the day (1: Monday, ... 7 = Sunday)\n",
    "* `work`: boolean (True/False) describes whether the day is workday (true) or weekends (false).\n",
    "* `gym`: boolean (True/False) describes whether Alice goes to the gym on that day (true - goes to gym, false - \n",
    "does not go to gym).\n",
    "* `coffee_ml`: integer, describes how much coffee Alice drinks in the day.\n"
   ]
  },
  {
   "cell_type": "markdown",
   "metadata": {},
   "source": [
    "**lang:ja**\n",
    "    \n",
    "アリスはコーヒーを大好きで、よく飲みます。コーヒーの消費量に気になってデータ解析を行いたいので、以下の記述を読んで、データフレームをCSV形式で作ってください。\n",
    "アリスの一週間の説明こちらです：\n",
    "\n",
    "* アリスは平日は毎日に会社に通います。\n",
    "* アリスは会社に着く前に毎日にコーヒーを飲みます。ただし、水曜日は飲みません。\n",
    "* 朝は、いつもSサイズのコップを買います。\n",
    "* アリスは毎週火曜日と木曜日にジムに通います。\n",
    "* ジムが終わったら、アリスはLサイズのコーヒーを飲んでいます。\n",
    "* ジムがない日はコーヒー屋さんによらず直接に帰ります。\n",
    "* 週末（土曜日と日曜日）は、アリスはコーヒーを家で一日一回作ります。一回の量は500mlです。\n",
    "* Sサイズのコップは200ml, Lサイズのコップは300mlです。\n",
    "\n",
    "課題として、データフレームを作って`coffee`という名前をつけてください。データフレームには以下の列を入れましょう。\n",
    "\n",
    "* `day`: 整数、一週間の中の一日を記述します (1: 月曜日、　... ７：　日曜日)\n",
    "* `work`: 真理値、その日に会社に行くかどうか。\n",
    "* `gym`: 真理値、その日にジムに行くかどうか。\n",
    "* `coffee_ml`: 整数、その日にコーヒーの消費量、ｍｌの単位。"
   ]
  },
  {
   "cell_type": "code",
   "execution_count": 6,
   "metadata": {},
   "outputs": [],
   "source": [
    "%%solution\n",
    "coffee = pd.read_csv(io.StringIO(\"\"\"day,work,gym,coffee_ml\n",
    "# BEGIN SOLUTION\n",
    "1,true,false,200\n",
    "2,true,true,500\n",
    "3,true,false,0\n",
    "4,true,true,500\n",
    "5,true,false,200\n",
    "6,false,false,500\n",
    "7,false,false,500\n",
    "# END SOLUTION\n",
    "\"\"\"))"
   ]
  },
  {
   "cell_type": "code",
   "execution_count": 7,
   "metadata": {},
   "outputs": [
    {
     "data": {
      "text/html": [
       "<div>\n",
       "<style scoped>\n",
       "    .dataframe tbody tr th:only-of-type {\n",
       "        vertical-align: middle;\n",
       "    }\n",
       "\n",
       "    .dataframe tbody tr th {\n",
       "        vertical-align: top;\n",
       "    }\n",
       "\n",
       "    .dataframe thead th {\n",
       "        text-align: right;\n",
       "    }\n",
       "</style>\n",
       "<table border=\"1\" class=\"dataframe\">\n",
       "  <thead>\n",
       "    <tr style=\"text-align: right;\">\n",
       "      <th></th>\n",
       "      <th>day</th>\n",
       "      <th>work</th>\n",
       "      <th>gym</th>\n",
       "      <th>coffee_ml</th>\n",
       "    </tr>\n",
       "  </thead>\n",
       "  <tbody>\n",
       "    <tr>\n",
       "      <th>0</th>\n",
       "      <td>1</td>\n",
       "      <td>True</td>\n",
       "      <td>False</td>\n",
       "      <td>200</td>\n",
       "    </tr>\n",
       "    <tr>\n",
       "      <th>1</th>\n",
       "      <td>2</td>\n",
       "      <td>True</td>\n",
       "      <td>True</td>\n",
       "      <td>500</td>\n",
       "    </tr>\n",
       "    <tr>\n",
       "      <th>2</th>\n",
       "      <td>3</td>\n",
       "      <td>True</td>\n",
       "      <td>False</td>\n",
       "      <td>0</td>\n",
       "    </tr>\n",
       "    <tr>\n",
       "      <th>3</th>\n",
       "      <td>4</td>\n",
       "      <td>True</td>\n",
       "      <td>True</td>\n",
       "      <td>500</td>\n",
       "    </tr>\n",
       "    <tr>\n",
       "      <th>4</th>\n",
       "      <td>5</td>\n",
       "      <td>True</td>\n",
       "      <td>False</td>\n",
       "      <td>200</td>\n",
       "    </tr>\n",
       "    <tr>\n",
       "      <th>5</th>\n",
       "      <td>6</td>\n",
       "      <td>False</td>\n",
       "      <td>False</td>\n",
       "      <td>500</td>\n",
       "    </tr>\n",
       "    <tr>\n",
       "      <th>6</th>\n",
       "      <td>7</td>\n",
       "      <td>False</td>\n",
       "      <td>False</td>\n",
       "      <td>500</td>\n",
       "    </tr>\n",
       "  </tbody>\n",
       "</table>\n",
       "</div>"
      ],
      "text/plain": [
       "   day   work    gym  coffee_ml\n",
       "0    1   True  False        200\n",
       "1    2   True   True        500\n",
       "2    3   True  False          0\n",
       "3    4   True   True        500\n",
       "4    5   True  False        200\n",
       "5    6  False  False        500\n",
       "6    7  False  False        500"
      ]
     },
     "execution_count": 7,
     "metadata": {},
     "output_type": "execute_result"
    }
   ],
   "source": [
    "# Inspect the resulting data frame\n",
    "coffee"
   ]
  },
  {
   "cell_type": "code",
   "execution_count": 8,
   "metadata": {},
   "outputs": [],
   "source": [
    "%%studenttest StudentTest\n",
    "# Test the data frame. **lang:en**\n",
    "# MASTER ONLY\n",
    "assert len(coffee) == 7, \"Your dataframe should have 7 rows for each day of the week\"\n",
    "assert 'day' in coffee, \"Your dataframe should have a 'day' column\"\n",
    "assert 'coffee_ml' in coffee, \"Your dataframe should have a 'coffee_ml' column\"\n",
    "assert 'work' in coffee, \"Your dataframe should have a 'work' column\"\n",
    "assert 'gym' in coffee, \"Your dataframe should have a 'gym' column\""
   ]
  },
  {
   "cell_type": "code",
   "execution_count": 9,
   "metadata": {},
   "outputs": [],
   "source": [
    "%%studenttest StudentTest\n",
    "# Test the data frame. **lang:ja**\n",
    "assert len(coffee) == 7, \"データフレームには７つの行が入らなければなりません\"\n",
    "assert 'day' in coffee, \"データフレームには'day'の列が入らなければなりません\"\n",
    "assert 'coffee_ml' in coffee, \"データフレームには'coffee_ml'の列が入らなければなりません\"\n",
    "assert 'work' in coffee, \"データフレームには'work'の列が入らなければなりません\"\n",
    "assert 'gym' in coffee, \"データフレームには'gym'の列が入らなければなりません\""
   ]
  },
  {
   "cell_type": "code",
   "execution_count": 10,
   "metadata": {},
   "outputs": [],
   "source": [
    "%%inlinetest AutograderTest\n",
    "# This test is not shown to student, but used by the autograder.\n",
    "assert 'coffee' in globals(), \"Did you define the data frame named 'coffee' in the solution cell?\"\n",
    "assert coffee.__class__ == pd.core.frame.DataFrame, \"Did you define a data frame named 'coffee'? There was a %s instead\" % coffee.__class__\n",
    "assert len(coffee) == 7, \"The data frame should have 7 rows, you have %d\" % len(coffee)\n",
    "assert len(np.unique(coffee['day']) == 7), \"The data frame should have 7 unique values of the 'day', you have %d\" % len(np.unique(coffee['day']))\n",
    "assert str(np.sort(np.unique(coffee['coffee_ml'])).astype(list)) == '[0 200 500]', \"The daily coffee_ml amount should have values of 0, 200, and 500, but you have got: %s\" % (str(np.sort(np.unique(coffee['coffee_ml'])).astype(list)))\n",
    "assert np.sum(coffee['coffee_ml']) == 2400, \"The coffee amount is not correct, total should be 2400 ml per week, but you data frame has %d\" % np.sum(coffee['coffee_ml']) \n",
    "assert np.sum(coffee['work'].astype(int)) == 5, \"There should be 5 work days in a week\"\n",
    "assert np.sum(coffee['gym'].astype(int)) == 2, \"There should be 2 gym days in a week\"\n",
    "assert np.all(coffee.loc[coffee['gym']]['coffee_ml'] == 500), \"coffee_ml should be 500 ml on gym days\"\n",
    "assert np.all(coffee.loc[np.logical_not(coffee['work'])]['coffee_ml'] == 500), \"coffee_ml should be 500 on weekends\"\n",
    "assert np.sum(coffee.loc[np.logical_and(coffee['work'], np.logical_not(coffee['gym']))]['coffee_ml']) == 400, \"coffee_ml should be 200 on Monday and Friday, and 0 on Wednesday\""
   ]
  },
  {
   "cell_type": "markdown",
   "metadata": {},
   "source": [
    "# MASTER ONLY. Try the AutograderTest with various inputs"
   ]
  },
  {
   "cell_type": "code",
   "execution_count": 11,
   "metadata": {},
   "outputs": [],
   "source": [
    "%%submission\n",
    "coffee = pd.read_csv(io.StringIO(\"\"\"day,coffee_ml,work,gym\n",
    "Monday,201,true,false\n",
    "Tuesday,500,true,true\n",
    "Wednesday,0,true,false\n",
    "Thursday,500,true,true\n",
    "Friday,200,true,false\n",
    "Saturday,500,false,false\n",
    "Sunday,500,false,false\n",
    "\"\"\"))"
   ]
  },
  {
   "cell_type": "code",
   "execution_count": 12,
   "metadata": {},
   "outputs": [
    {
     "data": {
      "text/html": [
       "\n",
       "<h4 style='color: #387;'>Results</h4>\n",
       "\n",
       "The daily coffee_ml amount should have values of 0, 200, and 500, but you have got: [0 200 201 500]\n"
      ],
      "text/plain": [
       "<IPython.core.display.HTML object>"
      ]
     },
     "execution_count": 12,
     "metadata": {},
     "output_type": "execute_result"
    }
   ],
   "source": [
    "result, logs = %autotest AutograderTest\n",
    "assert re.search(r'should have values of 0, 200, and 500', str(result.results['error']))\n",
    "report(AutograderTest, results=result.results)"
   ]
  },
  {
   "cell_type": "code",
   "execution_count": 13,
   "metadata": {},
   "outputs": [],
   "source": [
    "%%submission\n",
    "coffee = True"
   ]
  },
  {
   "cell_type": "code",
   "execution_count": 14,
   "metadata": {},
   "outputs": [
    {
     "data": {
      "text/html": [
       "\n",
       "<h4 style='color: #387;'>Your submission</h4>\n",
       "<pre style='background: #F0F0F0; padding: 3pt; margin: 4pt; border: 1pt solid #DDD; border-radius: 3pt;'><div class=\"highlight\"><pre><span></span><span class=\"n\">coffee</span> <span class=\"o\">=</span> <span class=\"bp\">True</span>\n",
       "</pre></div></pre>\n",
       "<h4 style='color: #387;'>Results</h4>\n",
       "\n",
       "Did you define a data frame named &#39;coffee&#39;? There was a &lt;class &#39;bool&#39;&gt; instead\n"
      ],
      "text/plain": [
       "<IPython.core.display.HTML object>"
      ]
     },
     "execution_count": 14,
     "metadata": {},
     "output_type": "execute_result"
    }
   ],
   "source": [
    "result, logs = %autotest AutograderTest\n",
    "assert re.search(r'Did you define a data frame named .coffee.', str(result.results['error']))\n",
    "report(AutograderTest, results=result.results, source=submission_source.source)"
   ]
  },
  {
   "cell_type": "code",
   "execution_count": 15,
   "metadata": {},
   "outputs": [
    {
     "data": {
      "text/html": [
       "\n",
       "<h4 style='color: #387;'>Results</h4>\n",
       "\n",
       "object of type &#39;bool&#39; has no len()\n"
      ],
      "text/plain": [
       "<IPython.core.display.HTML object>"
      ]
     },
     "execution_count": 15,
     "metadata": {},
     "output_type": "execute_result"
    }
   ],
   "source": [
    "result, logs = %autotest StudentTest\n",
    "report(StudentTest, results=result.results)"
   ]
  }
 ],
 "metadata": {
  "kernelspec": {
   "display_name": "Python 3",
   "language": "python",
   "name": "python3"
  },
  "language_info": {
   "codemirror_mode": {
    "name": "ipython",
    "version": 3
   },
   "file_extension": ".py",
   "mimetype": "text/x-python",
   "name": "python",
   "nbconvert_exporter": "python",
   "pygments_lexer": "ipython3",
   "version": "3.6.6"
  }
 },
 "nbformat": 4,
 "nbformat_minor": 2
}
