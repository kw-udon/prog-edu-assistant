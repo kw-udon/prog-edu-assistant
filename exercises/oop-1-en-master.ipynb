{
 "cells": [
  {
   "cell_type": "markdown",
   "metadata": {
    "colab_type": "text",
    "id": "ZPcRRHtYEtzT"
   },
   "source": [
    "# Object-Oriented Programming\n",
    "\n",
    "Learning outcomes:\n",
    "\n",
    "*   Understand the concept of \"encapsulation\" and \"abstraction\"\n",
    "*   Understand why we use classes in object-oriented programming\n",
    "*   Understand the Python syntax for initializing classes, calling methods, and using properties.\n",
    "\n",
    "```\n",
    "# ASSIGNMENT METADATA\n",
    "assignment_id: \"oop1\"\n",
    "```"
   ]
  },
  {
   "cell_type": "code",
   "execution_count": 1,
   "metadata": {},
   "outputs": [],
   "source": [
    "# MASTER ONLY\n",
    "from prog_edu_assistant_tools.magics import autotest, report\n",
    "\n",
    "# Loads %%solution, %%submission, %%template\n",
    "%load_ext prog_edu_assistant_tools.magics"
   ]
  },
  {
   "cell_type": "markdown",
   "metadata": {
    "colab_type": "text",
    "id": "2J-JXSMHMzWO"
   },
   "source": [
    "## Dates\n",
    "\n",
    "In this assignment, we'll be exploring different ways to represent dates. Although we use dates in our daily lives, they are surprisingly complicated with a lot of edge-cases. For example, how do we decide what's a valid date? How do we figure out what date it is tomorrow? And how do we even deal with time zones?\n",
    "\n",
    "Object-oriented programming provides us with a framework to avoid dealing with these fine details. Instead of thinking about individual steps (e.g., to determine tomorrow's date, we have to add a day to the month, or add a month to the year, or add a year!) we can think of a Date as _something_ that can do things (e.g., \"tell me your next date\"), and expect that it will do these things correctly.\n",
    "\n",
    "*  **Abstraction:** Hiding these details is known as _abstraction_. When talking to a Date, all we should need to know is how to talk to it (i.e., what it can do, and what questions it can answer), rather than how it does it.\n",
    "*   **Encapsulation:** All details relating to dates should be grouped together behind Date objects. This way, we can simply trust that the Date works correctly rather than fiddling around with many different pieces. This can be in terms of related functionality, or even keeping the pieces of a date together in a single place (i.e., the day, month, and year).\n"
   ]
  },
  {
   "cell_type": "markdown",
   "metadata": {
    "colab_type": "text",
    "id": "DR1DChIRY6zz"
   },
   "source": [
    "## The `Date` class: constructors and properties"
   ]
  },
  {
   "cell_type": "markdown",
   "metadata": {
    "colab_type": "text",
    "id": "n6cnXTtKor_f"
   },
   "source": [
    "In the following section, we'll be using the terms \"class\", \"object\", and \"instance\" a lot. Let's clear up what each of these terms mean.\n",
    "\n",
    "*    **Class:** A class is a blueprint for how a certain group of things behave.\n",
    "*    **Object:** An object is something that is been created out of one such blueprint.\n",
    "*    **Instance:** An \"instance of a class\" is another way of describing an object of a particular class.\n",
    "\n",
    "To make these concrete, we want to create a Date class. This is to say, we want to have a blueprint for how we talk about dates, e.g., how they're created, what information they store, and what information they can tell us. Afterwards, we want to use this blueprint to create Date objects, which we can later use in our programs.\n",
    "\n",
    "The Python language supports object-oriented programming. We'll first be exploring the following concepts in Python:\n",
    "\n",
    "*    We will create a Date `class` that is a blueprint for our `Date` objects.\n",
    "*    `class`es can have _properties_, which are pieces of data related to the class. We'll be using properties to store the year, month, and day associated with the date.\n"
   ]
  },
  {
   "cell_type": "markdown",
   "metadata": {
    "colab_type": "text",
    "id": "lQI8T-48jdp9"
   },
   "source": [
    "### Constructors\n",
    "\n",
    "Below, we define the `Date` class to represent a date. Notice that we define the `__init__(...)` function inside the class. This is known as the constructor.\n",
    "\n",
    "*   This function has a special name, `__init__(...)`, which stands for \"initialize\". This is a special function that Python understands as being used to create a `Date` object. Notice that it takes four arguments, `self`, and the components of a date.\n",
    "*   `self` is a special argument that is used to refer to \"ourself\". This is because in our blueprint, we need a way to refer to the object we're creating and modifying itself.\n",
    "*   Inside the function, we then assign the components of the date to `self.year`, `self.month`, and `self.day`. The dot operator, `.`, can be thought of as something like a possessive (in English, this would be an 's). So, `self.year` is like \"self's year\"."
   ]
  },
  {
   "cell_type": "code",
   "execution_count": 2,
   "metadata": {
    "colab": {},
    "colab_type": "code",
    "id": "bg9GtpkhEzdc"
   },
   "outputs": [],
   "source": [
    "class Date(object):\n",
    "  def __init__(self, year, month, day):\n",
    "    self.year = year\n",
    "    self.month = month\n",
    "    self.day = day"
   ]
  },
  {
   "cell_type": "markdown",
   "metadata": {
    "colab_type": "text",
    "id": "ozA54iEAdS4O"
   },
   "source": [
    "### Using constructors and properties\n",
    "\n",
    "To call the constructor, we _call_ the class, e.g., `Date(2019, 4, 7)` to create a date corresponding to 2019/4/7. Notice that we don't need to pass `self` as an argument since Python does this for us. After creating our `Date`, we can then access its properties using the dot operator."
   ]
  },
  {
   "cell_type": "code",
   "execution_count": 3,
   "metadata": {
    "colab": {},
    "colab_type": "code",
    "id": "lY0VcXaeIYFx"
   },
   "outputs": [
    {
     "name": "stdout",
     "output_type": "stream",
     "text": [
      "2019/4/7\n"
     ]
    }
   ],
   "source": [
    "d = Date(2019, 4, 7)\n",
    "print('{}/{}/{}'.format(d.year, d.month, d.day))"
   ]
  },
  {
   "cell_type": "code",
   "execution_count": 4,
   "metadata": {
    "colab": {},
    "colab_type": "code",
    "id": "Dzbk9t6zIkcg"
   },
   "outputs": [],
   "source": [
    "class Date(object):\n",
    "  def __init__(self, year, month, day):\n",
    "    self.year = year\n",
    "    self.month = month\n",
    "    self.day = day\n",
    "    \n",
    "  # This is another special function that allows us to call print(...) on a\n",
    "  # Date object.\n",
    "  def __str__(self):\n",
    "    return '{}/{}/{}'.format(self.year, self.month, self.day)"
   ]
  },
  {
   "cell_type": "code",
   "execution_count": 5,
   "metadata": {
    "colab": {},
    "colab_type": "code",
    "id": "cVIYbeW2Iqkq"
   },
   "outputs": [
    {
     "name": "stdout",
     "output_type": "stream",
     "text": [
      "2019/4/7\n"
     ]
    }
   ],
   "source": [
    "d = Date(2019, 4, 7)\n",
    "print(d)"
   ]
  },
  {
   "cell_type": "markdown",
   "metadata": {
    "colab_type": "text",
    "id": "7E6lm7-fjBEE"
   },
   "source": [
    "## Exercise: Using the `Date` class and its properties"
   ]
  },
  {
   "cell_type": "markdown",
   "metadata": {
    "colab_type": "text",
    "id": "u63qUkrHo6F_"
   },
   "source": [
    "In the following code cells, implement the `is_valid_date`, `increment_date`, `is_equal_date`, and `is_later_date` functions."
   ]
  },
  {
   "cell_type": "markdown",
   "metadata": {
    "colab_type": "text",
    "id": "P3PqyPPSvDjh"
   },
   "source": [
    "### `is_equal_date`"
   ]
  },
  {
   "cell_type": "markdown",
   "metadata": {
    "colab_type": "text",
    "id": "E9WMzN8mgobl"
   },
   "source": [
    "```\n",
    "# EXERCISE METADATA\n",
    "exercise_id: \"is_equal_date\"\n",
    "```\n",
    "\n",
    "This method should return `True` if `date` is equal to `other_date`."
   ]
  },
  {
   "cell_type": "code",
   "execution_count": 6,
   "metadata": {
    "colab": {},
    "colab_type": "code",
    "id": "_zNVEEVvF_4-"
   },
   "outputs": [],
   "source": [
    "%%solution {exercise_id:\"is_equal_date\"}\n",
    "def is_equal_date(date, other_date):\n",
    "  \"\"\" # BEGIN PROMPT\n",
    "    # Put your program here!\n",
    "    pass\n",
    "  \"\"\" # END PROMPT\n",
    "# BEGIN SOLUTION\n",
    "  return (date.year == other_date.year and\n",
    "          date.month == other_date.month and\n",
    "          date.day == other_date.day)\n",
    "# END SOLUTION"
   ]
  },
  {
   "cell_type": "code",
   "execution_count": 7,
   "metadata": {
    "colab": {},
    "colab_type": "code",
    "id": "E75S9qFRW_88"
   },
   "outputs": [],
   "source": [
    "# TEST\n",
    "assert is_equal_date(Date(2019, 4, 15), Date(2019, 4, 15))\n",
    "assert not is_equal_date(Date(2019, 4, 15), Date(2019, 4, 16))\n",
    "assert not is_equal_date(Date(2019, 4, 31), Date(2019, 5, 1))"
   ]
  },
  {
   "cell_type": "code",
   "execution_count": 8,
   "metadata": {},
   "outputs": [
    {
     "name": "stdout",
     "output_type": "stream",
     "text": [
      "test_equal1 (__main__.IsEqualTest) ... ok\n",
      "test_equal_neg1 (__main__.IsEqualTest) ... ok\n",
      "test_equal_neg2 (__main__.IsEqualTest) ... ok\n",
      "test_equal_neg3 (__main__.IsEqualTest) ... ok\n",
      "\n",
      "----------------------------------------------------------------------\n",
      "Ran 4 tests in 0.000s\n",
      "\n",
      "OK\n",
      "\n"
     ]
    }
   ],
   "source": [
    "# BEGIN UNITTEST\n",
    "#import submission\n",
    "import unittest\n",
    "\n",
    "class Date(object):\n",
    "  def __init__(self, year, month, day):\n",
    "    self.year = year\n",
    "    self.month = month\n",
    "    self.day = day\n",
    "    \n",
    "  # This is another special function that allows us to call print(...) on a\n",
    "  # Date object.\n",
    "  def __str__(self):\n",
    "    return '{}/{}/{}'.format(self.year, self.month, self.day)\n",
    "\n",
    "class IsEqualTest(unittest.TestCase):\n",
    "    def test_equal1(self):\n",
    "        self.assertTrue(submission.is_equal_date(Date(2019, 4, 15), Date(2019, 4, 15)))\n",
    "    def test_equal_neg1(self):\n",
    "        self.assertFalse(submission.is_equal_date(Date(2019, 4, 15), Date(2019, 4, 16)))\n",
    "    def test_equal_neg2(self):\n",
    "        self.assertFalse(submission.is_equal_date(Date(2019, 4, 15), Date(2019, 5, 15)))\n",
    "    def test_equal_neg3(self):\n",
    "        self.assertFalse(submission.is_equal_date(Date(2019, 4, 15), Date(2018, 4, 15)))\n",
    "\n",
    "# END UNITTEST\n",
    "\n",
    "from prog_edu_assistant_tools.magics import autotest, report\n",
    "result, log = autotest(IsEqualTest)\n",
    "print(log)\n",
    "assert(result.results['IsEqualTest.test_equal1'])\n",
    "assert(result.results['IsEqualTest.test_equal_neg1'])\n",
    "assert(result.results['IsEqualTest.test_equal_neg2'])\n",
    "assert(result.results['IsEqualTest.test_equal_neg3'])"
   ]
  },
  {
   "cell_type": "code",
   "execution_count": 9,
   "metadata": {},
   "outputs": [],
   "source": [
    "%%template IsEqualTest_template\n",
    "<style type='text/css'>\n",
    ".k { color: purple; }\n",
    ".c1 { color: green; }\n",
    ".s2 { color: brown; }\n",
    "h2 { color: #387;}\n",
    ".x { background: #F0F0F0; padding: 3pt; margin: 4pt; border: 1pt solid #DDD; border-radius: 3pt; }\n",
    "</style>\n",
    "<h2>Your submission</h2>\n",
    "<pre style='background: #F0F0F0; padding: 3pt; margin: 4pt; border: 1pt solid #DDD; border-radius: 3pt;'>{{source}}</pre>\n",
    "<h2>Results</h2>\n",
    "{% if 'IsEqualTest.test_equal_neg1' in results and not results['IsEqualTest.test_equal_neg1']: %}\n",
    "Have you checked equality of day?\n",
    "{% elif 'IsEqualTest.test_equal_neg2' in results and not results['IsEqualTest.test_equal_neg2']: %}\n",
    "Have you checked equality of month?\n",
    "{% elif 'IsEqualTest.test_equal_neg3' in results and not results['IsEqualTest.test_equal_neg3']: %}\n",
    "Have you checked equality of year?\n",
    "{% elif 'IsEqualTest.test_equal1' in results and not results['IsEqualTest.test_equal1']: %}\n",
    "Something is wrong in your code\n",
    "{% elif 'IsEqualTest.py' in results and not results['IsEqualTest.py']: %}\n",
    "The test has failed completely\n",
    "{% else: %}\n",
    "Your code looks good\n",
    "{% endif %}\n",
    "<hr>\n",
    "<h2>Full result vector</h2>\n",
    "{{results}}\n",
    "{% if logs: %}\n",
    "<h2>Logs</h2>\n",
    "{% for k in logs: %}\n",
    "<h3>{{k}}</h3>\n",
    "<pre>{{logs[k]}}</pre>\n",
    "{% endfor %}\n",
    "{% endif %}"
   ]
  },
  {
   "cell_type": "code",
   "execution_count": 10,
   "metadata": {},
   "outputs": [
    {
     "data": {
      "text/html": [
       "<style type='text/css'>\n",
       ".k { color: purple; }\n",
       ".c1 { color: green; }\n",
       ".s2 { color: brown; }\n",
       "h2 { color: #387;}\n",
       ".x { background: #F0F0F0; padding: 3pt; margin: 4pt; border: 1pt solid #DDD; border-radius: 3pt; }\n",
       "</style>\n",
       "<h2>Your submission</h2>\n",
       "<pre style='background: #F0F0F0; padding: 3pt; margin: 4pt; border: 1pt solid #DDD; border-radius: 3pt;'><div class=\"highlight\"><pre><span></span><span class=\"k\">def</span> <span class=\"nf\">is_equal_date</span><span class=\"p\">(</span><span class=\"n\">date</span><span class=\"p\">,</span> <span class=\"n\">other_date</span><span class=\"p\">):</span>\n",
       "  <span class=\"k\">return</span> <span class=\"p\">(</span><span class=\"n\">date</span><span class=\"o\">.</span><span class=\"n\">year</span> <span class=\"o\">==</span> <span class=\"n\">other_date</span><span class=\"o\">.</span><span class=\"n\">year</span> <span class=\"ow\">and</span>\n",
       "          <span class=\"n\">date</span><span class=\"o\">.</span><span class=\"n\">month</span> <span class=\"o\">==</span> <span class=\"n\">other_date</span><span class=\"o\">.</span><span class=\"n\">month</span> <span class=\"ow\">and</span>\n",
       "          <span class=\"n\">date</span><span class=\"o\">.</span><span class=\"n\">day</span> <span class=\"o\">==</span> <span class=\"n\">other_date</span><span class=\"o\">.</span><span class=\"n\">day</span><span class=\"p\">)</span>\n",
       "</pre></div>\n",
       "</pre>\n",
       "<h2>Results</h2>\n",
       "\n",
       "Your code looks good\n",
       "\n",
       "<hr>\n",
       "<h2>Full result vector</h2>\n",
       "{'IsEqualTest.test_equal1': True, 'IsEqualTest.test_equal_neg1': True, 'IsEqualTest.test_equal_neg2': True, 'IsEqualTest.test_equal_neg3': True}\n"
      ],
      "text/plain": [
       "<IPython.core.display.HTML object>"
      ]
     },
     "execution_count": 10,
     "metadata": {},
     "output_type": "execute_result"
    }
   ],
   "source": [
    "# MASTER ONLY\n",
    "report(IsEqualTest_template, source=submission_source.source, results=result.results, logs=None)"
   ]
  },
  {
   "cell_type": "code",
   "execution_count": 11,
   "metadata": {},
   "outputs": [],
   "source": [
    "%%submission\n",
    "def is_equal_date(date, other_date):\n",
    "  return (date.year == other_date.year-1 and\n",
    "          date.month == other_date.month and\n",
    "          date.day == other_date.day)"
   ]
  },
  {
   "cell_type": "code",
   "execution_count": 12,
   "metadata": {},
   "outputs": [
    {
     "name": "stdout",
     "output_type": "stream",
     "text": [
      "test_equal1 (__main__.IsEqualTest) ... FAIL\n",
      "test_equal_neg1 (__main__.IsEqualTest) ... ok\n",
      "test_equal_neg2 (__main__.IsEqualTest) ... ok\n",
      "test_equal_neg3 (__main__.IsEqualTest) ... ok\n",
      "\n",
      "======================================================================\n",
      "FAIL: test_equal1 (__main__.IsEqualTest)\n",
      "----------------------------------------------------------------------\n",
      "Traceback (most recent call last):\n",
      "  File \"<ipython-input-8-71d9bcfc1dcf>\", line 18, in test_equal1\n",
      "    self.assertTrue(submission.is_equal_date(Date(2019, 4, 15), Date(2019, 4, 15)))\n",
      "AssertionError: False is not true\n",
      "\n",
      "----------------------------------------------------------------------\n",
      "Ran 4 tests in 0.000s\n",
      "\n",
      "FAILED (failures=1)\n",
      "\n"
     ]
    },
    {
     "data": {
      "text/html": [
       "<style type='text/css'>\n",
       ".k { color: purple; }\n",
       ".c1 { color: green; }\n",
       ".s2 { color: brown; }\n",
       "h2 { color: #387;}\n",
       ".x { background: #F0F0F0; padding: 3pt; margin: 4pt; border: 1pt solid #DDD; border-radius: 3pt; }\n",
       "</style>\n",
       "<h2>Your submission</h2>\n",
       "<pre style='background: #F0F0F0; padding: 3pt; margin: 4pt; border: 1pt solid #DDD; border-radius: 3pt;'><div class=\"highlight\"><pre><span></span><span class=\"k\">def</span> <span class=\"nf\">is_equal_date</span><span class=\"p\">(</span><span class=\"n\">date</span><span class=\"p\">,</span> <span class=\"n\">other_date</span><span class=\"p\">):</span>\n",
       "  <span class=\"k\">return</span> <span class=\"p\">(</span><span class=\"n\">date</span><span class=\"o\">.</span><span class=\"n\">year</span> <span class=\"o\">==</span> <span class=\"n\">other_date</span><span class=\"o\">.</span><span class=\"n\">year</span><span class=\"o\">-</span><span class=\"mi\">1</span> <span class=\"ow\">and</span>\n",
       "          <span class=\"n\">date</span><span class=\"o\">.</span><span class=\"n\">month</span> <span class=\"o\">==</span> <span class=\"n\">other_date</span><span class=\"o\">.</span><span class=\"n\">month</span> <span class=\"ow\">and</span>\n",
       "          <span class=\"n\">date</span><span class=\"o\">.</span><span class=\"n\">day</span> <span class=\"o\">==</span> <span class=\"n\">other_date</span><span class=\"o\">.</span><span class=\"n\">day</span><span class=\"p\">)</span>\n",
       "</pre></div>\n",
       "</pre>\n",
       "<h2>Results</h2>\n",
       "\n",
       "Something is wrong in your code\n",
       "\n",
       "<hr>\n",
       "<h2>Full result vector</h2>\n",
       "{'IsEqualTest.test_equal1': False, 'IsEqualTest.test_equal_neg1': True, 'IsEqualTest.test_equal_neg2': True, 'IsEqualTest.test_equal_neg3': True}\n"
      ],
      "text/plain": [
       "<IPython.core.display.HTML object>"
      ]
     },
     "execution_count": 12,
     "metadata": {},
     "output_type": "execute_result"
    }
   ],
   "source": [
    "# MASTER ONLY\n",
    "result, log = autotest(IsEqualTest)\n",
    "print(log)\n",
    "report(IsEqualTest_template, source=submission_source.source, results=result.results)"
   ]
  }
 ],
 "metadata": {
  "colab": {
   "collapsed_sections": [
    "qizRzfq9G2Iq"
   ],
   "name": "oop.ipynb",
   "provenance": [],
   "version": "0.3.2"
  },
  "kernelspec": {
   "display_name": "Python 3",
   "language": "python",
   "name": "python3"
  },
  "language_info": {
   "codemirror_mode": {
    "name": "ipython",
    "version": 3
   },
   "file_extension": ".py",
   "mimetype": "text/x-python",
   "name": "python",
   "nbconvert_exporter": "python",
   "pygments_lexer": "ipython3",
   "version": "3.6.5"
  }
 },
 "nbformat": 4,
 "nbformat_minor": 1
}
