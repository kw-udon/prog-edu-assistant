{
 "cells": [
  {
   "cell_type": "code",
   "execution_count": 1,
   "metadata": {},
   "outputs": [],
   "source": [
    "import io\n",
    "\n",
    "import numpy as np\n",
    "import pandas as pd\n",
    "import plotly_express as px"
   ]
  },
  {
   "cell_type": "code",
   "execution_count": 2,
   "metadata": {},
   "outputs": [],
   "source": [
    "# MASTER ONLY\n",
    "import ast\n",
    "# imports %%solution, %%submission, %%template\n",
    "%load_ext prog_edu_assistant_tools.magics\n",
    "from prog_edu_assistant_tools.magics import report, autotest"
   ]
  },
  {
   "cell_type": "markdown",
   "metadata": {},
   "source": [
    "# Data frames 3 &mdash; Data manipulation\n",
    "\n",
    "```\n",
    "# ASSIGNMENT METADATA\n",
    "assignment_id: \"Dataframe3\"\n",
    "```\n",
    "\n",
    "In this unit, we will get acquainted with a couple of simple techniques to change the data:\n",
    "\n",
    "* Filter rows based on a condition\n",
    "* Create new columns as a transformation of other columns\n",
    "* Drop columns that are no longer needed"
   ]
  },
  {
   "cell_type": "code",
   "execution_count": 3,
   "metadata": {},
   "outputs": [],
   "source": [
    "# Read the data from CSV file.\n",
    "df = pd.read_csv('data/16-July-2019-Tokyo-hourly.csv')"
   ]
  },
  {
   "cell_type": "code",
   "execution_count": 4,
   "metadata": {},
   "outputs": [
    {
     "data": {
      "text/html": [
       "<div>\n",
       "<style scoped>\n",
       "    .dataframe tbody tr th:only-of-type {\n",
       "        vertical-align: middle;\n",
       "    }\n",
       "\n",
       "    .dataframe tbody tr th {\n",
       "        vertical-align: top;\n",
       "    }\n",
       "\n",
       "    .dataframe thead th {\n",
       "        text-align: right;\n",
       "    }\n",
       "</style>\n",
       "<table border=\"1\" class=\"dataframe\">\n",
       "  <thead>\n",
       "    <tr style=\"text-align: right;\">\n",
       "      <th></th>\n",
       "      <th>Time_Hour</th>\n",
       "      <th>Temperature_degC</th>\n",
       "      <th>Precipitation_mm</th>\n",
       "      <th>WindDirection_16compasspoints</th>\n",
       "      <th>WindSpeed_m_s</th>\n",
       "      <th>SunshineDuration_h</th>\n",
       "      <th>Humidity_percent</th>\n",
       "      <th>Pressure_hPa</th>\n",
       "    </tr>\n",
       "  </thead>\n",
       "  <tbody>\n",
       "    <tr>\n",
       "      <th>0</th>\n",
       "      <td>1</td>\n",
       "      <td>19.2</td>\n",
       "      <td>3.5</td>\n",
       "      <td>NE</td>\n",
       "      <td>1.8</td>\n",
       "      <td>NaN</td>\n",
       "      <td>100</td>\n",
       "      <td>1011.7</td>\n",
       "    </tr>\n",
       "    <tr>\n",
       "      <th>1</th>\n",
       "      <td>2</td>\n",
       "      <td>19.1</td>\n",
       "      <td>2.0</td>\n",
       "      <td>NNE</td>\n",
       "      <td>2.0</td>\n",
       "      <td>NaN</td>\n",
       "      <td>100</td>\n",
       "      <td>1011.6</td>\n",
       "    </tr>\n",
       "    <tr>\n",
       "      <th>2</th>\n",
       "      <td>3</td>\n",
       "      <td>19.1</td>\n",
       "      <td>6.0</td>\n",
       "      <td>NNE</td>\n",
       "      <td>2.2</td>\n",
       "      <td>NaN</td>\n",
       "      <td>100</td>\n",
       "      <td>1011.6</td>\n",
       "    </tr>\n",
       "    <tr>\n",
       "      <th>3</th>\n",
       "      <td>4</td>\n",
       "      <td>19.2</td>\n",
       "      <td>5.0</td>\n",
       "      <td>NNE</td>\n",
       "      <td>2.1</td>\n",
       "      <td>0.0</td>\n",
       "      <td>100</td>\n",
       "      <td>1011.9</td>\n",
       "    </tr>\n",
       "    <tr>\n",
       "      <th>4</th>\n",
       "      <td>5</td>\n",
       "      <td>19.2</td>\n",
       "      <td>1.0</td>\n",
       "      <td>NNE</td>\n",
       "      <td>1.9</td>\n",
       "      <td>0.0</td>\n",
       "      <td>100</td>\n",
       "      <td>1012.3</td>\n",
       "    </tr>\n",
       "  </tbody>\n",
       "</table>\n",
       "</div>"
      ],
      "text/plain": [
       "   Time_Hour  Temperature_degC  Precipitation_mm  \\\n",
       "0          1              19.2               3.5   \n",
       "1          2              19.1               2.0   \n",
       "2          3              19.1               6.0   \n",
       "3          4              19.2               5.0   \n",
       "4          5              19.2               1.0   \n",
       "\n",
       "  WindDirection_16compasspoints  WindSpeed_m_s  SunshineDuration_h  \\\n",
       "0                            NE            1.8                 NaN   \n",
       "1                           NNE            2.0                 NaN   \n",
       "2                           NNE            2.2                 NaN   \n",
       "3                           NNE            2.1                 0.0   \n",
       "4                           NNE            1.9                 0.0   \n",
       "\n",
       "   Humidity_percent  Pressure_hPa  \n",
       "0               100        1011.7  \n",
       "1               100        1011.6  \n",
       "2               100        1011.6  \n",
       "3               100        1011.9  \n",
       "4               100        1012.3  "
      ]
     },
     "execution_count": 4,
     "metadata": {},
     "output_type": "execute_result"
    }
   ],
   "source": [
    "df.head()"
   ]
  },
  {
   "cell_type": "code",
   "execution_count": 5,
   "metadata": {},
   "outputs": [
    {
     "data": {
      "text/plain": [
       "24"
      ]
     },
     "execution_count": 5,
     "metadata": {},
     "output_type": "execute_result"
    }
   ],
   "source": [
    "len(df)"
   ]
  },
  {
   "cell_type": "markdown",
   "metadata": {},
   "source": [
    "Let's consider the question of how one should hold an umbrella when it rains.\n",
    "Depending on the wind direction, one needs to know the wind direction when it rained.\n",
    "First step is to limit the data to the hours when there was rain. To accomplish that,\n",
    "we _filter_ the data set by using a condition. The condition is placed in square brackets\n",
    "after the dataframe.\n",
    "\n",
    "Technical details:\n",
    "* The inner `df['Precipitation_mm']` extracts a single column as a pandas `Series` object.\n",
    "* The comparison `df['Precipitation_mm'] > 0'` is evaluated as a vector expression, that computes\n",
    "the condition element-wise, resulting in a `Series` object of the same length with boolean elements\n",
    "(true or false).\n",
    "* Finally, the indexing of a data frame by the boolean series performs the filtering of the rows\n",
    "in the dataframe only to rows which had the corresponding element as `True`. Note that the original\n",
    "data frame is left unmodified. Instead, a new copy of a data "
   ]
  },
  {
   "cell_type": "code",
   "execution_count": 6,
   "metadata": {},
   "outputs": [
    {
     "data": {
      "text/plain": [
       "14"
      ]
     },
     "execution_count": 6,
     "metadata": {},
     "output_type": "execute_result"
    }
   ],
   "source": [
    "df2 = df[df['Precipitation_mm'] > 0]\n",
    "len(df2)"
   ]
  },
  {
   "cell_type": "markdown",
   "metadata": {},
   "source": [
    "So it was 14 hours out of 24 in a day that the rain was falling. Let's see what the "
   ]
  }
 ],
 "metadata": {
  "kernelspec": {
   "display_name": "Python 3",
   "language": "python",
   "name": "python3"
  },
  "language_info": {
   "codemirror_mode": {
    "name": "ipython",
    "version": 3
   },
   "file_extension": ".py",
   "mimetype": "text/x-python",
   "name": "python",
   "nbconvert_exporter": "python",
   "pygments_lexer": "ipython3",
   "version": "3.6.5"
  }
 },
 "nbformat": 4,
 "nbformat_minor": 2
}
